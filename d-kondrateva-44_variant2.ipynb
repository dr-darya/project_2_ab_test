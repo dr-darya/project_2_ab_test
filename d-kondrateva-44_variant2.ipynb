{
 "cells": [
  {
   "cell_type": "markdown",
   "metadata": {},
   "source": [
    "## Проект: A/B–тестирование + SQL "
   ]
  },
  {
   "cell_type": "code",
   "execution_count": 7,
   "metadata": {},
   "outputs": [],
   "source": [
    "#Импортирую библиотеки\n",
    "import pandas as pd \n",
    "import requests \n",
    "from urllib.parse import urlencode\n",
    "import numpy as np\n",
    "import seaborn as sns\n",
    "import matplotlib.pyplot as plt\n",
    "import scipy.stats as stats\n",
    "import pingouin as pg\n",
    "from scipy.stats import chi2_contingency, chi2 \n",
    "from scipy.stats import bootstrap\n",
    "import pandahouse as ph\n",
    "import os\n",
    "\n",
    "%matplotlib inline"
   ]
  },
  {
   "cell_type": "markdown",
   "metadata": {},
   "source": [
    "1. Прочитаем файлы. \n",
    "\n",
    "Для этого напишу функцию, которая загружает дф по апи. "
   ]
  },
  {
   "cell_type": "code",
   "execution_count": 8,
   "metadata": {},
   "outputs": [],
   "source": [
    "def down_df(public_key):\n",
    "    # используем api \n",
    "    base_url = 'https://cloud-api.yandex.net/v1/disk/public/resources/download?' \n",
    "\n",
    "    # получаем url \n",
    "    final_url = base_url + urlencode(dict(public_key=public_key)) \n",
    "    response = requests.get(final_url) \n",
    "    download_url = response.json()['href']\n",
    "    \n",
    "    return download_url"
   ]
  },
  {
   "cell_type": "markdown",
   "metadata": {},
   "source": [
    "Прочитаю файлы с данными:\n",
    "\n",
    "- groups.csv - файл с информацией о принадлежности пользователя к контрольной или экспериментальной группе (А – контроль, B – целевая группа) \n",
    "- groups_add.csv - дополнительный файл с пользователями, который вам прислали спустя 2 дня после передачи данных\n",
    "- active_studs.csv - файл с информацией о пользователях, которые зашли на платформу в дни проведения эксперимента. \n",
    "- checks.csv - файл с информацией об оплатах пользователей в дни проведения эксперимента. "
   ]
  },
  {
   "cell_type": "code",
   "execution_count": 11,
   "metadata": {},
   "outputs": [],
   "source": [
    "#не дает загрузить из-за лимита/пробовала через загрузку и из своего ЯД\n",
    "#groups.csv\n",
    "#public_key_1 = 'https://disk.yandex.ru/d/yIe-v1-2Ew6iWw'\n",
    "#df_groups = pd.read_csv(down_df(public_key_1), sep=';')\n",
    "\n",
    "#groups_add.csv\n",
    "#public_key_2 = 'https://disk.yandex.ru/d/6T_nXraT5acZlw'\n",
    "#df_groups_add = pd.read_csv(down_df(public_key_2), sep=',')\n",
    "\n",
    "#active_studs.csv\n",
    "#public_key_3 = 'https://disk.yandex.ru/d/eWQd0ew-TT7KAQ'\n",
    "#df_active_studs = pd.read_csv(down_df(public_key_3), sep=';')\n",
    "\n",
    "#checks.csv\n",
    "#public_key_4 = 'https://disk.yandex.ru/d/L_oREC7EoYicWg'\n",
    "#df_checks = pd.read_csv(down_df(public_key_4), sep=';')\n"
   ]
  },
  {
   "cell_type": "markdown",
   "metadata": {},
   "source": [
    "После доработки не могу через апи загрузить файлы. Видимо это связано с превышением лимита скачиваний. Загружу дф по старинке"
   ]
  },
  {
   "cell_type": "code",
   "execution_count": 143,
   "metadata": {},
   "outputs": [],
   "source": [
    "#groups.csv\n",
    "df_groups = pd.read_csv(r'/mnt/HC_Volume_18315164/home-jupyter/jupyter-d-kondrateva-44/Проект_2_groups.csv', sep=';')\n",
    "\n",
    "#groups_add.csv\n",
    "\n",
    "df_groups_add = pd.read_csv(r'/mnt/HC_Volume_18315164/home-jupyter/jupyter-d-kondrateva-44/Проект_2_group_add.csv', sep=',')\n",
    "\n",
    "#active_studs.csv\n",
    "\n",
    "df_active_studs = pd.read_csv(r'/mnt/HC_Volume_18315164/home-jupyter/jupyter-d-kondrateva-44/Проект_2_active_studs.csv', sep=';')\n",
    "\n",
    "#checks.csv\n",
    "\n",
    "df_checks = pd.read_csv(r'/mnt/HC_Volume_18315164/home-jupyter/jupyter-d-kondrateva-44/Проект_2_checks.csv', sep=';')"
   ]
  },
  {
   "cell_type": "markdown",
   "metadata": {},
   "source": [
    "2. Функция первичного обзора данных"
   ]
  },
  {
   "cell_type": "code",
   "execution_count": 144,
   "metadata": {},
   "outputs": [],
   "source": [
    "#Функция первичного обзора данных\n",
    "def review(df):\n",
    "    display(df.head(5))\n",
    "    print(df.info())\n",
    "    print('Пропуски:', df.isna().sum())\n",
    "    print('Явные дубликаты:')\n",
    "    if df.duplicated().sum() > 0:\n",
    "        print(df.duplicated().sum())\n",
    "    else:\n",
    "        print('Не найдено')"
   ]
  },
  {
   "cell_type": "markdown",
   "metadata": {},
   "source": [
    "##### файл с информацией о принадлежности пользователя к контрольной или экспериментальной группе (А – контроль, B – целевая группа)"
   ]
  },
  {
   "cell_type": "code",
   "execution_count": 145,
   "metadata": {},
   "outputs": [
    {
     "data": {
      "text/html": [
       "<div>\n",
       "<style scoped>\n",
       "    .dataframe tbody tr th:only-of-type {\n",
       "        vertical-align: middle;\n",
       "    }\n",
       "\n",
       "    .dataframe tbody tr th {\n",
       "        vertical-align: top;\n",
       "    }\n",
       "\n",
       "    .dataframe thead th {\n",
       "        text-align: right;\n",
       "    }\n",
       "</style>\n",
       "<table border=\"1\" class=\"dataframe\">\n",
       "  <thead>\n",
       "    <tr style=\"text-align: right;\">\n",
       "      <th></th>\n",
       "      <th>id</th>\n",
       "      <th>grp</th>\n",
       "    </tr>\n",
       "  </thead>\n",
       "  <tbody>\n",
       "    <tr>\n",
       "      <th>0</th>\n",
       "      <td>1489</td>\n",
       "      <td>B</td>\n",
       "    </tr>\n",
       "    <tr>\n",
       "      <th>1</th>\n",
       "      <td>1627</td>\n",
       "      <td>A</td>\n",
       "    </tr>\n",
       "    <tr>\n",
       "      <th>2</th>\n",
       "      <td>1768</td>\n",
       "      <td>B</td>\n",
       "    </tr>\n",
       "    <tr>\n",
       "      <th>3</th>\n",
       "      <td>1783</td>\n",
       "      <td>B</td>\n",
       "    </tr>\n",
       "    <tr>\n",
       "      <th>4</th>\n",
       "      <td>1794</td>\n",
       "      <td>A</td>\n",
       "    </tr>\n",
       "  </tbody>\n",
       "</table>\n",
       "</div>"
      ],
      "text/plain": [
       "     id grp\n",
       "0  1489   B\n",
       "1  1627   A\n",
       "2  1768   B\n",
       "3  1783   B\n",
       "4  1794   A"
      ]
     },
     "metadata": {},
     "output_type": "display_data"
    },
    {
     "name": "stdout",
     "output_type": "stream",
     "text": [
      "<class 'pandas.core.frame.DataFrame'>\n",
      "RangeIndex: 74484 entries, 0 to 74483\n",
      "Data columns (total 2 columns):\n",
      " #   Column  Non-Null Count  Dtype \n",
      "---  ------  --------------  ----- \n",
      " 0   id      74484 non-null  int64 \n",
      " 1   grp     74484 non-null  object\n",
      "dtypes: int64(1), object(1)\n",
      "memory usage: 1.1+ MB\n",
      "None\n",
      "Пропуски: id     0\n",
      "grp    0\n",
      "dtype: int64\n",
      "Явные дубликаты:\n",
      "Не найдено\n"
     ]
    }
   ],
   "source": [
    "review(df_groups)"
   ]
  },
  {
   "cell_type": "markdown",
   "metadata": {},
   "source": [
    "##### дополнительный файл с пользователями, который вам прислали спустя 2 дня после передачи данных"
   ]
  },
  {
   "cell_type": "code",
   "execution_count": 146,
   "metadata": {},
   "outputs": [
    {
     "data": {
      "text/html": [
       "<div>\n",
       "<style scoped>\n",
       "    .dataframe tbody tr th:only-of-type {\n",
       "        vertical-align: middle;\n",
       "    }\n",
       "\n",
       "    .dataframe tbody tr th {\n",
       "        vertical-align: top;\n",
       "    }\n",
       "\n",
       "    .dataframe thead th {\n",
       "        text-align: right;\n",
       "    }\n",
       "</style>\n",
       "<table border=\"1\" class=\"dataframe\">\n",
       "  <thead>\n",
       "    <tr style=\"text-align: right;\">\n",
       "      <th></th>\n",
       "      <th>id</th>\n",
       "      <th>grp</th>\n",
       "    </tr>\n",
       "  </thead>\n",
       "  <tbody>\n",
       "    <tr>\n",
       "      <th>0</th>\n",
       "      <td>5694584</td>\n",
       "      <td>B</td>\n",
       "    </tr>\n",
       "    <tr>\n",
       "      <th>1</th>\n",
       "      <td>5694830</td>\n",
       "      <td>B</td>\n",
       "    </tr>\n",
       "    <tr>\n",
       "      <th>2</th>\n",
       "      <td>5695057</td>\n",
       "      <td>B</td>\n",
       "    </tr>\n",
       "    <tr>\n",
       "      <th>3</th>\n",
       "      <td>5698872</td>\n",
       "      <td>B</td>\n",
       "    </tr>\n",
       "    <tr>\n",
       "      <th>4</th>\n",
       "      <td>5699067</td>\n",
       "      <td>B</td>\n",
       "    </tr>\n",
       "  </tbody>\n",
       "</table>\n",
       "</div>"
      ],
      "text/plain": [
       "        id grp\n",
       "0  5694584   B\n",
       "1  5694830   B\n",
       "2  5695057   B\n",
       "3  5698872   B\n",
       "4  5699067   B"
      ]
     },
     "metadata": {},
     "output_type": "display_data"
    },
    {
     "name": "stdout",
     "output_type": "stream",
     "text": [
      "<class 'pandas.core.frame.DataFrame'>\n",
      "RangeIndex: 92 entries, 0 to 91\n",
      "Data columns (total 2 columns):\n",
      " #   Column  Non-Null Count  Dtype \n",
      "---  ------  --------------  ----- \n",
      " 0   id      92 non-null     int64 \n",
      " 1   grp     92 non-null     object\n",
      "dtypes: int64(1), object(1)\n",
      "memory usage: 1.6+ KB\n",
      "None\n",
      "Пропуски: id     0\n",
      "grp    0\n",
      "dtype: int64\n",
      "Явные дубликаты:\n",
      "Не найдено\n"
     ]
    }
   ],
   "source": [
    "review(df_groups_add)"
   ]
  },
  {
   "cell_type": "markdown",
   "metadata": {},
   "source": [
    "##### файл с информацией о пользователях, которые зашли на платформу в дни проведения эксперимента."
   ]
  },
  {
   "cell_type": "code",
   "execution_count": 147,
   "metadata": {},
   "outputs": [
    {
     "data": {
      "text/html": [
       "<div>\n",
       "<style scoped>\n",
       "    .dataframe tbody tr th:only-of-type {\n",
       "        vertical-align: middle;\n",
       "    }\n",
       "\n",
       "    .dataframe tbody tr th {\n",
       "        vertical-align: top;\n",
       "    }\n",
       "\n",
       "    .dataframe thead th {\n",
       "        text-align: right;\n",
       "    }\n",
       "</style>\n",
       "<table border=\"1\" class=\"dataframe\">\n",
       "  <thead>\n",
       "    <tr style=\"text-align: right;\">\n",
       "      <th></th>\n",
       "      <th>student_id</th>\n",
       "    </tr>\n",
       "  </thead>\n",
       "  <tbody>\n",
       "    <tr>\n",
       "      <th>0</th>\n",
       "      <td>581585</td>\n",
       "    </tr>\n",
       "    <tr>\n",
       "      <th>1</th>\n",
       "      <td>5723133</td>\n",
       "    </tr>\n",
       "    <tr>\n",
       "      <th>2</th>\n",
       "      <td>3276743</td>\n",
       "    </tr>\n",
       "    <tr>\n",
       "      <th>3</th>\n",
       "      <td>4238589</td>\n",
       "    </tr>\n",
       "    <tr>\n",
       "      <th>4</th>\n",
       "      <td>4475369</td>\n",
       "    </tr>\n",
       "  </tbody>\n",
       "</table>\n",
       "</div>"
      ],
      "text/plain": [
       "   student_id\n",
       "0      581585\n",
       "1     5723133\n",
       "2     3276743\n",
       "3     4238589\n",
       "4     4475369"
      ]
     },
     "metadata": {},
     "output_type": "display_data"
    },
    {
     "name": "stdout",
     "output_type": "stream",
     "text": [
      "<class 'pandas.core.frame.DataFrame'>\n",
      "RangeIndex: 8341 entries, 0 to 8340\n",
      "Data columns (total 1 columns):\n",
      " #   Column      Non-Null Count  Dtype\n",
      "---  ------      --------------  -----\n",
      " 0   student_id  8341 non-null   int64\n",
      "dtypes: int64(1)\n",
      "memory usage: 65.3 KB\n",
      "None\n",
      "Пропуски: student_id    0\n",
      "dtype: int64\n",
      "Явные дубликаты:\n",
      "Не найдено\n"
     ]
    }
   ],
   "source": [
    "review(df_active_studs)"
   ]
  },
  {
   "cell_type": "markdown",
   "metadata": {},
   "source": [
    "##### файл с информацией об оплатах пользователей в дни проведения эксперимента."
   ]
  },
  {
   "cell_type": "code",
   "execution_count": 148,
   "metadata": {},
   "outputs": [
    {
     "data": {
      "text/html": [
       "<div>\n",
       "<style scoped>\n",
       "    .dataframe tbody tr th:only-of-type {\n",
       "        vertical-align: middle;\n",
       "    }\n",
       "\n",
       "    .dataframe tbody tr th {\n",
       "        vertical-align: top;\n",
       "    }\n",
       "\n",
       "    .dataframe thead th {\n",
       "        text-align: right;\n",
       "    }\n",
       "</style>\n",
       "<table border=\"1\" class=\"dataframe\">\n",
       "  <thead>\n",
       "    <tr style=\"text-align: right;\">\n",
       "      <th></th>\n",
       "      <th>student_id</th>\n",
       "      <th>rev</th>\n",
       "    </tr>\n",
       "  </thead>\n",
       "  <tbody>\n",
       "    <tr>\n",
       "      <th>0</th>\n",
       "      <td>1627</td>\n",
       "      <td>990.0</td>\n",
       "    </tr>\n",
       "    <tr>\n",
       "      <th>1</th>\n",
       "      <td>3185</td>\n",
       "      <td>690.0</td>\n",
       "    </tr>\n",
       "    <tr>\n",
       "      <th>2</th>\n",
       "      <td>25973</td>\n",
       "      <td>690.0</td>\n",
       "    </tr>\n",
       "    <tr>\n",
       "      <th>3</th>\n",
       "      <td>26280</td>\n",
       "      <td>690.0</td>\n",
       "    </tr>\n",
       "    <tr>\n",
       "      <th>4</th>\n",
       "      <td>100300</td>\n",
       "      <td>990.0</td>\n",
       "    </tr>\n",
       "  </tbody>\n",
       "</table>\n",
       "</div>"
      ],
      "text/plain": [
       "   student_id    rev\n",
       "0        1627  990.0\n",
       "1        3185  690.0\n",
       "2       25973  690.0\n",
       "3       26280  690.0\n",
       "4      100300  990.0"
      ]
     },
     "metadata": {},
     "output_type": "display_data"
    },
    {
     "name": "stdout",
     "output_type": "stream",
     "text": [
      "<class 'pandas.core.frame.DataFrame'>\n",
      "RangeIndex: 541 entries, 0 to 540\n",
      "Data columns (total 2 columns):\n",
      " #   Column      Non-Null Count  Dtype  \n",
      "---  ------      --------------  -----  \n",
      " 0   student_id  541 non-null    int64  \n",
      " 1   rev         541 non-null    float64\n",
      "dtypes: float64(1), int64(1)\n",
      "memory usage: 8.6 KB\n",
      "None\n",
      "Пропуски: student_id    0\n",
      "rev           0\n",
      "dtype: int64\n",
      "Явные дубликаты:\n",
      "Не найдено\n"
     ]
    }
   ],
   "source": [
    "review(df_checks)"
   ]
  },
  {
   "cell_type": "markdown",
   "metadata": {},
   "source": [
    "Для решения первой задачи буду следовать такой логике: \n",
    "\n",
    "#### Первая часть - подготовка дф для дальнейшей работы.\n",
    "\n",
    "1. Сначала нужно объединить два файла с данными по аб тестировнию\n",
    "2. Смерджу датасет с активными юезрами и с юзерами, которые совершили покупку. У меня должен получиться дф, где будут все активные пользователи в дни проведения экспермимента. \n",
    "3. В получившемся дф я отмечу тех, кто совершил/не совершил покупку (0/1)\n",
    "4. Затем я получившейся дф смерджу с данными по юзерам по аб эксперименту. \n",
    "\n",
    "Это будет итоговый дф для проведения анализа. "
   ]
  },
  {
   "cell_type": "markdown",
   "metadata": {},
   "source": [
    "1. Объединяю два файла по аб тестированию\n",
    "\n",
    " - **А – контроль**,\n",
    " - **B – целевая группа**"
   ]
  },
  {
   "cell_type": "code",
   "execution_count": 149,
   "metadata": {},
   "outputs": [],
   "source": [
    "#дф с информацией о принадлежности пользователя к контрольной или экспериментальной группе (А – контроль, B – целевая группа)\n",
    "groups = pd.concat([df_groups,df_groups_add])"
   ]
  },
  {
   "cell_type": "code",
   "execution_count": 150,
   "metadata": {},
   "outputs": [
    {
     "data": {
      "text/html": [
       "<div>\n",
       "<style scoped>\n",
       "    .dataframe tbody tr th:only-of-type {\n",
       "        vertical-align: middle;\n",
       "    }\n",
       "\n",
       "    .dataframe tbody tr th {\n",
       "        vertical-align: top;\n",
       "    }\n",
       "\n",
       "    .dataframe thead th {\n",
       "        text-align: right;\n",
       "    }\n",
       "</style>\n",
       "<table border=\"1\" class=\"dataframe\">\n",
       "  <thead>\n",
       "    <tr style=\"text-align: right;\">\n",
       "      <th></th>\n",
       "      <th>id</th>\n",
       "      <th>grp</th>\n",
       "    </tr>\n",
       "  </thead>\n",
       "  <tbody>\n",
       "    <tr>\n",
       "      <th>0</th>\n",
       "      <td>1489</td>\n",
       "      <td>B</td>\n",
       "    </tr>\n",
       "    <tr>\n",
       "      <th>1</th>\n",
       "      <td>1627</td>\n",
       "      <td>A</td>\n",
       "    </tr>\n",
       "    <tr>\n",
       "      <th>2</th>\n",
       "      <td>1768</td>\n",
       "      <td>B</td>\n",
       "    </tr>\n",
       "    <tr>\n",
       "      <th>3</th>\n",
       "      <td>1783</td>\n",
       "      <td>B</td>\n",
       "    </tr>\n",
       "    <tr>\n",
       "      <th>4</th>\n",
       "      <td>1794</td>\n",
       "      <td>A</td>\n",
       "    </tr>\n",
       "  </tbody>\n",
       "</table>\n",
       "</div>"
      ],
      "text/plain": [
       "     id grp\n",
       "0  1489   B\n",
       "1  1627   A\n",
       "2  1768   B\n",
       "3  1783   B\n",
       "4  1794   A"
      ]
     },
     "execution_count": 150,
     "metadata": {},
     "output_type": "execute_result"
    }
   ],
   "source": [
    "groups.head()"
   ]
  },
  {
   "cell_type": "code",
   "execution_count": 151,
   "metadata": {},
   "outputs": [
    {
     "data": {
      "text/plain": [
       "B    59883\n",
       "A    14693\n",
       "Name: grp, dtype: int64"
      ]
     },
     "execution_count": 151,
     "metadata": {},
     "output_type": "execute_result"
    }
   ],
   "source": [
    "#Кол-во участников в группах\n",
    "groups['grp'].value_counts()"
   ]
  },
  {
   "cell_type": "code",
   "execution_count": 152,
   "metadata": {},
   "outputs": [
    {
     "data": {
      "text/plain": [
       "B    80.297951\n",
       "A    19.702049\n",
       "Name: grp, dtype: float64"
      ]
     },
     "execution_count": 152,
     "metadata": {},
     "output_type": "execute_result"
    }
   ],
   "source": [
    "#В проц отношении\n",
    "groups['grp'].value_counts(normalize=True).mul(100)"
   ]
  },
  {
   "cell_type": "code",
   "execution_count": 153,
   "metadata": {},
   "outputs": [
    {
     "data": {
      "text/plain": [
       "(74576, 2)"
      ]
     },
     "execution_count": 153,
     "metadata": {},
     "output_type": "execute_result"
    }
   ],
   "source": [
    "groups.shape"
   ]
  },
  {
   "cell_type": "markdown",
   "metadata": {},
   "source": [
    "2. Нужно получить файл с юзерами и их действиями, когда проходил эксперимент\n",
    "\n",
    "Мне нужно получить всех юзеров, кто совершал и не совершал покупку с платформы, когда проходил эксперимент"
   ]
  },
  {
   "cell_type": "markdown",
   "metadata": {},
   "source": [
    "Если я правильно рассуждаю, у нас пользователь заходит на платформу и на платформе есть система оплаты. Может ли он попасть сразу на оплату без посещения платформы? \n",
    "\n",
    "По логике мы должны таких пользователей исключить из анализа, потому что нам нужно смотреть только тех, кто с платформы пошел или не пошел на оплату. Так как мы тестировали новую механику оплаты.\n",
    "\n",
    "Чтобы взять только пользователей перешедших или не перешедших на оплату с платформы, я возьму файл с данными, где хранятся пользователи, которые заходили на платформу в дни проведения эксперимента и объед. его с файлом, где хранится информация об оплатах. Оставлю только тех кто перешел или не перешел на оплату через платформу. Таким образом я должна отсечь тех, кто попал на оплату не через платфому"
   ]
  },
  {
   "cell_type": "code",
   "execution_count": 154,
   "metadata": {},
   "outputs": [],
   "source": [
    "action_users = df_active_studs.merge(df_checks, how = 'left',on = 'student_id')"
   ]
  },
  {
   "cell_type": "code",
   "execution_count": 155,
   "metadata": {},
   "outputs": [],
   "source": [
    "#Заменю все NaN значения на нули\n",
    "action_users.fillna(0,inplace=True)"
   ]
  },
  {
   "cell_type": "code",
   "execution_count": 156,
   "metadata": {},
   "outputs": [
    {
     "data": {
      "text/html": [
       "<div>\n",
       "<style scoped>\n",
       "    .dataframe tbody tr th:only-of-type {\n",
       "        vertical-align: middle;\n",
       "    }\n",
       "\n",
       "    .dataframe tbody tr th {\n",
       "        vertical-align: top;\n",
       "    }\n",
       "\n",
       "    .dataframe thead th {\n",
       "        text-align: right;\n",
       "    }\n",
       "</style>\n",
       "<table border=\"1\" class=\"dataframe\">\n",
       "  <thead>\n",
       "    <tr style=\"text-align: right;\">\n",
       "      <th></th>\n",
       "      <th>student_id</th>\n",
       "      <th>rev</th>\n",
       "    </tr>\n",
       "  </thead>\n",
       "  <tbody>\n",
       "    <tr>\n",
       "      <th>0</th>\n",
       "      <td>581585</td>\n",
       "      <td>0.0</td>\n",
       "    </tr>\n",
       "    <tr>\n",
       "      <th>1</th>\n",
       "      <td>5723133</td>\n",
       "      <td>0.0</td>\n",
       "    </tr>\n",
       "    <tr>\n",
       "      <th>2</th>\n",
       "      <td>3276743</td>\n",
       "      <td>0.0</td>\n",
       "    </tr>\n",
       "    <tr>\n",
       "      <th>3</th>\n",
       "      <td>4238589</td>\n",
       "      <td>0.0</td>\n",
       "    </tr>\n",
       "    <tr>\n",
       "      <th>4</th>\n",
       "      <td>4475369</td>\n",
       "      <td>0.0</td>\n",
       "    </tr>\n",
       "  </tbody>\n",
       "</table>\n",
       "</div>"
      ],
      "text/plain": [
       "   student_id  rev\n",
       "0      581585  0.0\n",
       "1     5723133  0.0\n",
       "2     3276743  0.0\n",
       "3     4238589  0.0\n",
       "4     4475369  0.0"
      ]
     },
     "execution_count": 156,
     "metadata": {},
     "output_type": "execute_result"
    }
   ],
   "source": [
    "action_users.head()"
   ]
  },
  {
   "cell_type": "code",
   "execution_count": 157,
   "metadata": {},
   "outputs": [
    {
     "data": {
      "text/plain": [
       "True"
      ]
     },
     "execution_count": 157,
     "metadata": {},
     "output_type": "execute_result"
    }
   ],
   "source": [
    "action_users.shape[0] == df_active_studs.shape[0]"
   ]
  },
  {
   "cell_type": "code",
   "execution_count": 158,
   "metadata": {},
   "outputs": [
    {
     "data": {
      "text/plain": [
       "(8341, 2)"
      ]
     },
     "execution_count": 158,
     "metadata": {},
     "output_type": "execute_result"
    }
   ],
   "source": [
    "action_users.shape"
   ]
  },
  {
   "cell_type": "markdown",
   "metadata": {},
   "source": [
    "**Кол-во уникальных юзеров.**\n",
    "\n",
    "Это те студенты, которые были активны и которым была предложена оплата/они совершили или не совершили покупку"
   ]
  },
  {
   "cell_type": "code",
   "execution_count": 159,
   "metadata": {},
   "outputs": [
    {
     "data": {
      "text/plain": [
       "8341"
      ]
     },
     "execution_count": 159,
     "metadata": {},
     "output_type": "execute_result"
    }
   ],
   "source": [
    "#Кол-во уникальных юзеров.\n",
    "action_users.student_id.nunique()"
   ]
  },
  {
   "cell_type": "markdown",
   "metadata": {},
   "source": [
    "Проверю все таки есть пользователи, которые оплатили без посещения платформы, когда проводился эксперимент. \n",
    "\n",
    "Как я это вижу: \n",
    "\n",
    "Я хочу объед эти же данные, только сделать полное внешнее объединение(outer), чтобы потом вычислить этих пользователей: вычту кол-во пользователей из action_users(где у меня хранятся пользователи, которые через платформу перешли на оплату)"
   ]
  },
  {
   "cell_type": "code",
   "execution_count": 160,
   "metadata": {},
   "outputs": [],
   "source": [
    "#объед и получила дф\n",
    "all_users = df_active_studs.merge(df_checks, how = 'outer',on = 'student_id')"
   ]
  },
  {
   "cell_type": "code",
   "execution_count": 161,
   "metadata": {},
   "outputs": [
    {
     "data": {
      "text/plain": [
       "8490"
      ]
     },
     "execution_count": 161,
     "metadata": {},
     "output_type": "execute_result"
    }
   ],
   "source": [
    "#возьму кол-во уникальных пользов \n",
    "all_users.student_id.nunique()"
   ]
  },
  {
   "cell_type": "code",
   "execution_count": 162,
   "metadata": {},
   "outputs": [
    {
     "name": "stdout",
     "output_type": "stream",
     "text": [
      "Кол-во пользователей, которые совершили оплату без посещения платформы в дни проведения эксперимента\n",
      "149\n"
     ]
    }
   ],
   "source": [
    "print(f'''Кол-во пользователей, которые совершили оплату без посещения платформы в дни проведения эксперимента\n",
    "{all_users.student_id.nunique() - action_users.student_id.nunique()}''')"
   ]
  },
  {
   "cell_type": "markdown",
   "metadata": {},
   "source": [
    "Выходит такие пользователи есть. \n",
    "\n",
    "Значит моя логика решения должна быть правильной. Для дальнейшей работы я возьму action_users - этот дф\n"
   ]
  },
  {
   "cell_type": "markdown",
   "metadata": {},
   "source": [
    "Добавлю отметку, если пользователь совершил/не совершил покупку. 1 - совершил. 0 - не совершил \n"
   ]
  },
  {
   "cell_type": "code",
   "execution_count": 163,
   "metadata": {},
   "outputs": [
    {
     "data": {
      "text/html": [
       "<div>\n",
       "<style scoped>\n",
       "    .dataframe tbody tr th:only-of-type {\n",
       "        vertical-align: middle;\n",
       "    }\n",
       "\n",
       "    .dataframe tbody tr th {\n",
       "        vertical-align: top;\n",
       "    }\n",
       "\n",
       "    .dataframe thead th {\n",
       "        text-align: right;\n",
       "    }\n",
       "</style>\n",
       "<table border=\"1\" class=\"dataframe\">\n",
       "  <thead>\n",
       "    <tr style=\"text-align: right;\">\n",
       "      <th></th>\n",
       "      <th>student_id</th>\n",
       "      <th>rev</th>\n",
       "      <th>purch</th>\n",
       "    </tr>\n",
       "  </thead>\n",
       "  <tbody>\n",
       "    <tr>\n",
       "      <th>0</th>\n",
       "      <td>581585</td>\n",
       "      <td>0.0</td>\n",
       "      <td>0</td>\n",
       "    </tr>\n",
       "    <tr>\n",
       "      <th>1</th>\n",
       "      <td>5723133</td>\n",
       "      <td>0.0</td>\n",
       "      <td>0</td>\n",
       "    </tr>\n",
       "    <tr>\n",
       "      <th>2</th>\n",
       "      <td>3276743</td>\n",
       "      <td>0.0</td>\n",
       "      <td>0</td>\n",
       "    </tr>\n",
       "    <tr>\n",
       "      <th>3</th>\n",
       "      <td>4238589</td>\n",
       "      <td>0.0</td>\n",
       "      <td>0</td>\n",
       "    </tr>\n",
       "    <tr>\n",
       "      <th>4</th>\n",
       "      <td>4475369</td>\n",
       "      <td>0.0</td>\n",
       "      <td>0</td>\n",
       "    </tr>\n",
       "  </tbody>\n",
       "</table>\n",
       "</div>"
      ],
      "text/plain": [
       "   student_id  rev  purch\n",
       "0      581585  0.0      0\n",
       "1     5723133  0.0      0\n",
       "2     3276743  0.0      0\n",
       "3     4238589  0.0      0\n",
       "4     4475369  0.0      0"
      ]
     },
     "execution_count": 163,
     "metadata": {},
     "output_type": "execute_result"
    }
   ],
   "source": [
    "#если была покупка добавила 1, если нет 0 \n",
    "action_users['purch'] = action_users['rev'].apply(lambda x: 1 if x > 0 else 0)\n",
    "\n",
    "action_users.head()"
   ]
  },
  {
   "cell_type": "markdown",
   "metadata": {},
   "source": [
    "Для корректного объед получившегося дф с файлом, где хранятся данные по аб тесту, мне нужно переименовать колоенку с id. "
   ]
  },
  {
   "cell_type": "code",
   "execution_count": 164,
   "metadata": {},
   "outputs": [],
   "source": [
    "#в дф с информацией о принадлежности пользователя к контрольной или экспериментальной группе изменю название колонки\n",
    "groups.rename(columns = {'id':'student_id'},inplace=True)"
   ]
  },
  {
   "cell_type": "code",
   "execution_count": 165,
   "metadata": {},
   "outputs": [
    {
     "data": {
      "text/html": [
       "<div>\n",
       "<style scoped>\n",
       "    .dataframe tbody tr th:only-of-type {\n",
       "        vertical-align: middle;\n",
       "    }\n",
       "\n",
       "    .dataframe tbody tr th {\n",
       "        vertical-align: top;\n",
       "    }\n",
       "\n",
       "    .dataframe thead th {\n",
       "        text-align: right;\n",
       "    }\n",
       "</style>\n",
       "<table border=\"1\" class=\"dataframe\">\n",
       "  <thead>\n",
       "    <tr style=\"text-align: right;\">\n",
       "      <th></th>\n",
       "      <th>student_id</th>\n",
       "      <th>grp</th>\n",
       "    </tr>\n",
       "  </thead>\n",
       "  <tbody>\n",
       "    <tr>\n",
       "      <th>0</th>\n",
       "      <td>1489</td>\n",
       "      <td>B</td>\n",
       "    </tr>\n",
       "  </tbody>\n",
       "</table>\n",
       "</div>"
      ],
      "text/plain": [
       "   student_id grp\n",
       "0        1489   B"
      ]
     },
     "execution_count": 165,
     "metadata": {},
     "output_type": "execute_result"
    }
   ],
   "source": [
    "groups.head(1)"
   ]
  },
  {
   "cell_type": "markdown",
   "metadata": {},
   "source": [
    "Объединение файла с данными по аб тесту + файлом с действиями активных пользователей."
   ]
  },
  {
   "cell_type": "code",
   "execution_count": 166,
   "metadata": {},
   "outputs": [],
   "source": [
    "df_students = groups.merge(action_users,on='student_id')"
   ]
  },
  {
   "cell_type": "code",
   "execution_count": 167,
   "metadata": {},
   "outputs": [
    {
     "data": {
      "text/html": [
       "<div>\n",
       "<style scoped>\n",
       "    .dataframe tbody tr th:only-of-type {\n",
       "        vertical-align: middle;\n",
       "    }\n",
       "\n",
       "    .dataframe tbody tr th {\n",
       "        vertical-align: top;\n",
       "    }\n",
       "\n",
       "    .dataframe thead th {\n",
       "        text-align: right;\n",
       "    }\n",
       "</style>\n",
       "<table border=\"1\" class=\"dataframe\">\n",
       "  <thead>\n",
       "    <tr style=\"text-align: right;\">\n",
       "      <th></th>\n",
       "      <th>student_id</th>\n",
       "      <th>grp</th>\n",
       "      <th>rev</th>\n",
       "      <th>purch</th>\n",
       "    </tr>\n",
       "  </thead>\n",
       "  <tbody>\n",
       "    <tr>\n",
       "      <th>0</th>\n",
       "      <td>1627</td>\n",
       "      <td>A</td>\n",
       "      <td>990.0</td>\n",
       "      <td>1</td>\n",
       "    </tr>\n",
       "    <tr>\n",
       "      <th>1</th>\n",
       "      <td>2085</td>\n",
       "      <td>B</td>\n",
       "      <td>0.0</td>\n",
       "      <td>0</td>\n",
       "    </tr>\n",
       "    <tr>\n",
       "      <th>2</th>\n",
       "      <td>2215</td>\n",
       "      <td>B</td>\n",
       "      <td>0.0</td>\n",
       "      <td>0</td>\n",
       "    </tr>\n",
       "    <tr>\n",
       "      <th>3</th>\n",
       "      <td>3391</td>\n",
       "      <td>A</td>\n",
       "      <td>0.0</td>\n",
       "      <td>0</td>\n",
       "    </tr>\n",
       "    <tr>\n",
       "      <th>4</th>\n",
       "      <td>3401</td>\n",
       "      <td>B</td>\n",
       "      <td>0.0</td>\n",
       "      <td>0</td>\n",
       "    </tr>\n",
       "    <tr>\n",
       "      <th>5</th>\n",
       "      <td>22994</td>\n",
       "      <td>B</td>\n",
       "      <td>0.0</td>\n",
       "      <td>0</td>\n",
       "    </tr>\n",
       "    <tr>\n",
       "      <th>6</th>\n",
       "      <td>26899</td>\n",
       "      <td>B</td>\n",
       "      <td>0.0</td>\n",
       "      <td>0</td>\n",
       "    </tr>\n",
       "    <tr>\n",
       "      <th>7</th>\n",
       "      <td>27079</td>\n",
       "      <td>B</td>\n",
       "      <td>0.0</td>\n",
       "      <td>0</td>\n",
       "    </tr>\n",
       "    <tr>\n",
       "      <th>8</th>\n",
       "      <td>29021</td>\n",
       "      <td>B</td>\n",
       "      <td>0.0</td>\n",
       "      <td>0</td>\n",
       "    </tr>\n",
       "    <tr>\n",
       "      <th>9</th>\n",
       "      <td>98633</td>\n",
       "      <td>B</td>\n",
       "      <td>0.0</td>\n",
       "      <td>0</td>\n",
       "    </tr>\n",
       "  </tbody>\n",
       "</table>\n",
       "</div>"
      ],
      "text/plain": [
       "   student_id grp    rev  purch\n",
       "0        1627   A  990.0      1\n",
       "1        2085   B    0.0      0\n",
       "2        2215   B    0.0      0\n",
       "3        3391   A    0.0      0\n",
       "4        3401   B    0.0      0\n",
       "5       22994   B    0.0      0\n",
       "6       26899   B    0.0      0\n",
       "7       27079   B    0.0      0\n",
       "8       29021   B    0.0      0\n",
       "9       98633   B    0.0      0"
      ]
     },
     "execution_count": 167,
     "metadata": {},
     "output_type": "execute_result"
    }
   ],
   "source": [
    "df_students.head(10)"
   ]
  },
  {
   "cell_type": "code",
   "execution_count": 168,
   "metadata": {},
   "outputs": [
    {
     "data": {
      "text/plain": [
       "(8341, 4)"
      ]
     },
     "execution_count": 168,
     "metadata": {},
     "output_type": "execute_result"
    }
   ],
   "source": [
    "df_students.shape"
   ]
  },
  {
   "cell_type": "markdown",
   "metadata": {},
   "source": [
    "##### Подготовила файл для дальнейшего анализа - df_students."
   ]
  },
  {
   "cell_type": "code",
   "execution_count": 169,
   "metadata": {},
   "outputs": [
    {
     "data": {
      "text/plain": [
       "(8341, 4)"
      ]
     },
     "execution_count": 169,
     "metadata": {},
     "output_type": "execute_result"
    }
   ],
   "source": [
    "df_students.shape"
   ]
  },
  {
   "cell_type": "code",
   "execution_count": 170,
   "metadata": {},
   "outputs": [
    {
     "data": {
      "text/plain": [
       "student_id      int64\n",
       "grp            object\n",
       "rev           float64\n",
       "purch           int64\n",
       "dtype: object"
      ]
     },
     "execution_count": 170,
     "metadata": {},
     "output_type": "execute_result"
    }
   ],
   "source": [
    "df_students.dtypes"
   ]
  },
  {
   "cell_type": "code",
   "execution_count": 171,
   "metadata": {},
   "outputs": [
    {
     "data": {
      "text/plain": [
       "B    6803\n",
       "A    1538\n",
       "Name: grp, dtype: int64"
      ]
     },
     "execution_count": 171,
     "metadata": {},
     "output_type": "execute_result"
    }
   ],
   "source": [
    "#Посмотрим на распределнение кол-ва  в группах \n",
    "df_students['grp'].value_counts()"
   ]
  },
  {
   "cell_type": "code",
   "execution_count": 172,
   "metadata": {
    "scrolled": true
   },
   "outputs": [
    {
     "data": {
      "text/plain": [
       "B    81.56\n",
       "A    18.44\n",
       "Name: grp, dtype: float64"
      ]
     },
     "execution_count": 172,
     "metadata": {},
     "output_type": "execute_result"
    }
   ],
   "source": [
    "#В процентном отношении \n",
    "df_students['grp'].value_counts(normalize =True).mul(100).round(2)"
   ]
  },
  {
   "cell_type": "markdown",
   "metadata": {},
   "source": [
    "###### Визуальное представление, кол-во участников в группах"
   ]
  },
  {
   "cell_type": "code",
   "execution_count": 173,
   "metadata": {},
   "outputs": [
    {
     "name": "stderr",
     "output_type": "stream",
     "text": [
      "/opt/tljh/user/lib/python3.7/site-packages/seaborn/_decorators.py:43: FutureWarning: Pass the following variable as a keyword arg: x. From version 0.12, the only valid positional argument will be `data`, and passing other arguments without an explicit keyword will result in an error or misinterpretation.\n",
      "  FutureWarning\n",
      "No handles with labels found to put in legend.\n"
     ]
    },
    {
     "data": {
      "image/png": "[encoded data removed]",
      "text/plain": [
       "<Figure size 432x288 with 1 Axes>"
      ]
     },
     "metadata": {
      "needs_background": "light"
     },
     "output_type": "display_data"
    }
   ],
   "source": [
    "sns.countplot(df_students['grp'])\n",
    "\n",
    "plt.title('Распределние участников в группах', fontsize=13)\n",
    "plt.xlabel(\"Группа\")\n",
    "plt.ylabel(\"Кол-во участников\")\n",
    "plt.legend()\n",
    "plt.show()"
   ]
  },
  {
   "cell_type": "markdown",
   "metadata": {},
   "source": [
    "### Небольшой вывод: \n",
    "\n",
    "При предподготовке данных я выяснила: \n",
    "\n",
    "1. При распределении пользователей на аб группы у нас было общее кол-во 74576 пользователя. В контрольной группе было 14693 это почти 20% от общего числа. В экспер.группе было 59883 это около 80% от общего. \n",
    "   \n",
    "   В эксперименте участвовало 8341 пользователя. В контрольной группе 1538 это 18% от общего числа. В экспер.группе 6803 почти 82% от общего числа. \n",
    "   \n",
    "   \n",
    "2. Были пользователи(149), которые совершили оплату, но без посещения образовательной платформы во время проведения эксперимента. Я их не буду брать в анализ и в расчет метрик, потому что аб тест расчитан на активных пользователей, те кто идет с образовательной платформы.\n",
    "\n",
    "\n"
   ]
  },
  {
   "cell_type": "markdown",
   "metadata": {},
   "source": [
    "#### Приступим к выполнению второй части этого задания.\n",
    "Буду решать по след.логике:\n",
    "1. Выделю метрики для анализа\n",
    "2. Нахождение различий в показателях, с чем связано.\n",
    "3. Проверка на стат значимые различия анализируемых метрик \n",
    "4. Вывод: стоит ли запускать новую механику. "
   ]
  },
  {
   "cell_type": "markdown",
   "metadata": {},
   "source": [
    "**1. На какие метрики Вы смотрите в ходе анализа и почему?**\n",
    "\n",
    "Что должно улучшиться, чтобы мы могли сделать вывод об эффективности воздействия? Нас интересуют целевые метрики. Значит мы должны смотреть: \n",
    "1. Как изменилась конверсия в покупку\n",
    "2. Выросла или снизилась выручка 1го платящего и неплатящего пользователя. \n",
    "\n",
    "Соответственно я  выделю следующие метрики:\n",
    "- Конверсия в покупку;\n",
    "- ARPU - средняя выручка на 1го пользователя;\n",
    "- ARPAU (Average Revenue Per Active User) - средний платеж на всех активных пользователей. Более точно отражает ситуацию нежели ARPU."
   ]
  },
  {
   "cell_type": "markdown",
   "metadata": {},
   "source": [
    "###### Посмотрю на активных пользователей, кто оплачивал: \n",
    "- какой самый популярный чек в группах\n",
    "- какой был максим чек в группах "
   ]
  },
  {
   "cell_type": "code",
   "execution_count": 174,
   "metadata": {},
   "outputs": [
    {
     "data": {
      "text/html": [
       "<div>\n",
       "<style scoped>\n",
       "    .dataframe tbody tr th:only-of-type {\n",
       "        vertical-align: middle;\n",
       "    }\n",
       "\n",
       "    .dataframe tbody tr th {\n",
       "        vertical-align: top;\n",
       "    }\n",
       "\n",
       "    .dataframe thead th {\n",
       "        text-align: right;\n",
       "    }\n",
       "</style>\n",
       "<table border=\"1\" class=\"dataframe\">\n",
       "  <thead>\n",
       "    <tr style=\"text-align: right;\">\n",
       "      <th></th>\n",
       "      <th>student_id</th>\n",
       "      <th>grp</th>\n",
       "      <th>rev</th>\n",
       "      <th>purch</th>\n",
       "    </tr>\n",
       "  </thead>\n",
       "  <tbody>\n",
       "    <tr>\n",
       "      <th>0</th>\n",
       "      <td>1627</td>\n",
       "      <td>A</td>\n",
       "      <td>990.0</td>\n",
       "      <td>1</td>\n",
       "    </tr>\n",
       "    <tr>\n",
       "      <th>1</th>\n",
       "      <td>2085</td>\n",
       "      <td>B</td>\n",
       "      <td>0.0</td>\n",
       "      <td>0</td>\n",
       "    </tr>\n",
       "    <tr>\n",
       "      <th>2</th>\n",
       "      <td>2215</td>\n",
       "      <td>B</td>\n",
       "      <td>0.0</td>\n",
       "      <td>0</td>\n",
       "    </tr>\n",
       "    <tr>\n",
       "      <th>3</th>\n",
       "      <td>3391</td>\n",
       "      <td>A</td>\n",
       "      <td>0.0</td>\n",
       "      <td>0</td>\n",
       "    </tr>\n",
       "    <tr>\n",
       "      <th>4</th>\n",
       "      <td>3401</td>\n",
       "      <td>B</td>\n",
       "      <td>0.0</td>\n",
       "      <td>0</td>\n",
       "    </tr>\n",
       "  </tbody>\n",
       "</table>\n",
       "</div>"
      ],
      "text/plain": [
       "   student_id grp    rev  purch\n",
       "0        1627   A  990.0      1\n",
       "1        2085   B    0.0      0\n",
       "2        2215   B    0.0      0\n",
       "3        3391   A    0.0      0\n",
       "4        3401   B    0.0      0"
      ]
     },
     "execution_count": 174,
     "metadata": {},
     "output_type": "execute_result"
    }
   ],
   "source": [
    "df_students.head()"
   ]
  },
  {
   "cell_type": "code",
   "execution_count": 175,
   "metadata": {},
   "outputs": [
    {
     "data": {
      "text/plain": [
       "(8341, 4)"
      ]
     },
     "execution_count": 175,
     "metadata": {},
     "output_type": "execute_result"
    }
   ],
   "source": [
    "df_students.shape"
   ]
  },
  {
   "cell_type": "markdown",
   "metadata": {},
   "source": [
    "Выделю в отдельные дф группу А и В"
   ]
  },
  {
   "cell_type": "code",
   "execution_count": 176,
   "metadata": {},
   "outputs": [],
   "source": [
    "grp_A = df_students[df_students['grp'] == 'A']\n",
    "grp_B = df_students[df_students['grp'] == 'B']"
   ]
  },
  {
   "cell_type": "markdown",
   "metadata": {},
   "source": [
    "Посмотрю сколько оплат было совершенно в группах"
   ]
  },
  {
   "cell_type": "code",
   "execution_count": 177,
   "metadata": {},
   "outputs": [
    {
     "data": {
      "text/plain": [
       "0    94.928479\n",
       "1     5.071521\n",
       "Name: purch, dtype: float64"
      ]
     },
     "execution_count": 177,
     "metadata": {},
     "output_type": "execute_result"
    }
   ],
   "source": [
    "#Процент.отношение тех кто совершил и не совершил покупку в группе А - группа со старой механикой оплаты\n",
    "grp_A['purch'].value_counts(normalize=True).mul(100)"
   ]
  },
  {
   "cell_type": "code",
   "execution_count": 178,
   "metadata": {},
   "outputs": [
    {
     "data": {
      "text/plain": [
       "0    95.384389\n",
       "1     4.615611\n",
       "Name: purch, dtype: float64"
      ]
     },
     "execution_count": 178,
     "metadata": {},
     "output_type": "execute_result"
    }
   ],
   "source": [
    "#Процент.отношение тех кто совершил и не совершил покупку в группе B - группа с новой механикой оплаты\n",
    "grp_B['purch'].value_counts(normalize=True).mul(100)"
   ]
  },
  {
   "cell_type": "markdown",
   "metadata": {},
   "source": [
    "Популярный чек в группах. Как он отличается от средней суммы по группе."
   ]
  },
  {
   "cell_type": "code",
   "execution_count": 179,
   "metadata": {},
   "outputs": [
    {
     "data": {
      "text/plain": [
       "290.0     25\n",
       "580.0      6\n",
       "990.0      5\n",
       "590.0      5\n",
       "199.0      5\n",
       "690.0      4\n",
       "840.0      3\n",
       "3660.0     3\n",
       "1530.0     3\n",
       "1160.0     2\n",
       "1140.0     2\n",
       "2820.0     2\n",
       "489.0      2\n",
       "2910.0     2\n",
       "2900.0     1\n",
       "1830.0     1\n",
       "2220.0     1\n",
       "1980.0     1\n",
       "870.0      1\n",
       "398.0      1\n",
       "2890.0     1\n",
       "1180.0     1\n",
       "1039.0     1\n",
       "Name: rev, dtype: int64"
      ]
     },
     "execution_count": 179,
     "metadata": {},
     "output_type": "execute_result"
    }
   ],
   "source": [
    "#Популярный чек в группе А - со старой механикой оплаты\n",
    "grp_A.query('purch == 1')['rev'].value_counts()"
   ]
  },
  {
   "cell_type": "code",
   "execution_count": 180,
   "metadata": {},
   "outputs": [
    {
     "data": {
      "text/plain": [
       "934.0"
      ]
     },
     "execution_count": 180,
     "metadata": {},
     "output_type": "execute_result"
    }
   ],
   "source": [
    "#Средний чек в группе А == 934\n",
    "grp_A_mean_rev = grp_A.query('purch == 1').rev.mean().round()\n",
    "\n",
    "grp_A_mean_rev"
   ]
  },
  {
   "cell_type": "code",
   "execution_count": 181,
   "metadata": {},
   "outputs": [
    {
     "data": {
      "text/plain": [
       "585.0"
      ]
     },
     "execution_count": 181,
     "metadata": {},
     "output_type": "execute_result"
    }
   ],
   "source": [
    "#Медианный чек в группе А\n",
    "grp_A_median_rev = grp_A.query('purch == 1').rev.median().round()\n",
    "\n",
    "grp_A_median_rev"
   ]
  },
  {
   "cell_type": "markdown",
   "metadata": {},
   "source": [
    "В контрольной группе, самый часто встречающийся чек == 290. "
   ]
  },
  {
   "cell_type": "code",
   "execution_count": 182,
   "metadata": {},
   "outputs": [
    {
     "data": {
      "text/plain": [
       "1900.0000    93\n",
       "290.0000     45\n",
       "1900.0001    35\n",
       "199.0000     27\n",
       "840.0000     21\n",
       "990.0000     17\n",
       "690.0000     13\n",
       "1140.0000     9\n",
       "398.0000      6\n",
       "590.0000      6\n",
       "1530.0000     5\n",
       "580.0000      5\n",
       "870.0000      5\n",
       "2099.0000     3\n",
       "2890.0000     3\n",
       "1980.0000     2\n",
       "2910.0000     2\n",
       "3660.0000     2\n",
       "1968.0000     1\n",
       "880.0000      1\n",
       "3040.0000     1\n",
       "796.0000      1\n",
       "2190.0000     1\n",
       "1160.0000     1\n",
       "1729.0000     1\n",
       "2220.0000     1\n",
       "4650.0000     1\n",
       "1339.0000     1\n",
       "1388.0000     1\n",
       "489.0000      1\n",
       "3260.0000     1\n",
       "1050.0000     1\n",
       "597.0000      1\n",
       "Name: rev, dtype: int64"
      ]
     },
     "execution_count": 182,
     "metadata": {},
     "output_type": "execute_result"
    }
   ],
   "source": [
    "#Популярный чек в группе B - группа с новой механикой оплаты\n",
    "grp_B.query('purch == 1')['rev'].value_counts()"
   ]
  },
  {
   "cell_type": "code",
   "execution_count": 183,
   "metadata": {},
   "outputs": [
    {
     "data": {
      "text/plain": [
       "1258.0"
      ]
     },
     "execution_count": 183,
     "metadata": {},
     "output_type": "execute_result"
    }
   ],
   "source": [
    "#Средний чек в группе B == 1258\n",
    "grp_B_mean_rev = grp_B.query('purch == 1').rev.mean().round()\n",
    "\n",
    "grp_B_mean_rev"
   ]
  },
  {
   "cell_type": "code",
   "execution_count": 184,
   "metadata": {},
   "outputs": [
    {
     "data": {
      "text/plain": [
       "1140.0"
      ]
     },
     "execution_count": 184,
     "metadata": {},
     "output_type": "execute_result"
    }
   ],
   "source": [
    "#Медианный чек в группе B\n",
    "grp_B_median_rev = grp_B.query('purch == 1').rev.median().round()\n",
    "\n",
    "grp_B_median_rev"
   ]
  },
  {
   "cell_type": "markdown",
   "metadata": {},
   "source": [
    "##### Визализация - распределние чека в контрольной и экспер. группах"
   ]
  },
  {
   "cell_type": "code",
   "execution_count": 185,
   "metadata": {},
   "outputs": [
    {
     "name": "stderr",
     "output_type": "stream",
     "text": [
      "/opt/tljh/user/lib/python3.7/site-packages/seaborn/distributions.py:2557: FutureWarning: `distplot` is a deprecated function and will be removed in a future version. Please adapt your code to use either `displot` (a figure-level function with similar flexibility) or `histplot` (an axes-level function for histograms).\n",
      "  warnings.warn(msg, FutureWarning)\n",
      "/opt/tljh/user/lib/python3.7/site-packages/seaborn/distributions.py:2557: FutureWarning: `distplot` is a deprecated function and will be removed in a future version. Please adapt your code to use either `displot` (a figure-level function with similar flexibility) or `histplot` (an axes-level function for histograms).\n",
      "  warnings.warn(msg, FutureWarning)\n"
     ]
    },
    {
     "data": {
      "image/png": "[encoded data removed]",
      "text/plain": [
       "<Figure size 432x288 with 1 Axes>"
      ]
     },
     "metadata": {
      "needs_background": "light"
     },
     "output_type": "display_data"
    }
   ],
   "source": [
    "#Посмторим график распределения\n",
    "sns.distplot(grp_A.query('purch == 1')['rev'],color=\"dodgerblue\", label=\"group_A\",kde=True)\n",
    "sns.distplot(grp_B.query('purch == 1')['rev'],color=\"orange\", label=\"group_B\",kde=True)\n",
    "\n",
    "\n",
    "# Decoration\n",
    "plt.title('Распределние чека в группах', fontsize=13)\n",
    "plt.legend()\n",
    "plt.show()"
   ]
  },
  {
   "cell_type": "markdown",
   "metadata": {},
   "source": [
    "##### Выявила разницу между пользователями в группах:\n",
    "\n",
    "- У нас в эксп. группе самый популярный чек на 1900, а в контрольной группе лидирует по частоте встречаемости чек на 290. Это может говорить о том, что в группе б у нас пользователи были активнее и, возможно, было акционное предложение на этот чек в момент проведения эксперимента, поэтому так много покупок на эту сумму. В подтверждении этой версии можно еще привести такой довод, что следующие по популярности чеки в группе б это: 290, 199 и 840. \n",
    "- Еще нужно взять во внимание, что есть чек на 1900. Но также есть чек == 1900.0001. Скорее всего это баг. И имеется ввиду одна стоимость == 1900.\n",
    "- Также среднее значение и медианное значение чека в группе б выше, чем в группе а. Это также подтверждает, что в группе б пользователи были активнее. Интересно почему? Это буду анализировать дальше, смотреть на метрики и проверять на стат.значимые различия.\n",
    "- Распределние чека в обоих группах ненормальное, есть выбросы. \n",
    "- Выше я выяснила, что у нас оказались 149 пользователей, которые совершили покупку без посещения платорфы. Я их не буду учитывать при расчете метрик. Выше обосновывала. \n"
   ]
  },
  {
   "cell_type": "markdown",
   "metadata": {},
   "source": [
    "### Анализ метрик"
   ]
  },
  {
   "cell_type": "markdown",
   "metadata": {},
   "source": [
    "Так, я выделила следующие метрики:\n",
    "\n",
    "1. Конверсия в покупку;\n",
    "2. ARPU - средняя выручка на 1го пользователя;\n",
    "3. ARPAU (Average Revenue Per Active User) - средний платеж на всех активных пользователей. Более точно отражает ситуацию нежели ARPU. == Средний чек (ARPPU)"
   ]
  },
  {
   "cell_type": "markdown",
   "metadata": {},
   "source": [
    "### 1. Анализ метрики - CR в покупку\n",
    "\n",
    "Формула: \n",
    "\n",
    "CR = (Кол-во клиентов, совершивших покупку / Все клиенты) * 100%"
   ]
  },
  {
   "cell_type": "code",
   "execution_count": 186,
   "metadata": {},
   "outputs": [
    {
     "data": {
      "text/html": [
       "<div>\n",
       "<style scoped>\n",
       "    .dataframe tbody tr th:only-of-type {\n",
       "        vertical-align: middle;\n",
       "    }\n",
       "\n",
       "    .dataframe tbody tr th {\n",
       "        vertical-align: top;\n",
       "    }\n",
       "\n",
       "    .dataframe thead th {\n",
       "        text-align: right;\n",
       "    }\n",
       "</style>\n",
       "<table border=\"1\" class=\"dataframe\">\n",
       "  <thead>\n",
       "    <tr style=\"text-align: right;\">\n",
       "      <th></th>\n",
       "      <th>student_id</th>\n",
       "      <th>grp</th>\n",
       "      <th>rev</th>\n",
       "      <th>purch</th>\n",
       "    </tr>\n",
       "  </thead>\n",
       "  <tbody>\n",
       "    <tr>\n",
       "      <th>0</th>\n",
       "      <td>1627</td>\n",
       "      <td>A</td>\n",
       "      <td>990.0</td>\n",
       "      <td>1</td>\n",
       "    </tr>\n",
       "    <tr>\n",
       "      <th>1</th>\n",
       "      <td>2085</td>\n",
       "      <td>B</td>\n",
       "      <td>0.0</td>\n",
       "      <td>0</td>\n",
       "    </tr>\n",
       "    <tr>\n",
       "      <th>2</th>\n",
       "      <td>2215</td>\n",
       "      <td>B</td>\n",
       "      <td>0.0</td>\n",
       "      <td>0</td>\n",
       "    </tr>\n",
       "    <tr>\n",
       "      <th>3</th>\n",
       "      <td>3391</td>\n",
       "      <td>A</td>\n",
       "      <td>0.0</td>\n",
       "      <td>0</td>\n",
       "    </tr>\n",
       "    <tr>\n",
       "      <th>4</th>\n",
       "      <td>3401</td>\n",
       "      <td>B</td>\n",
       "      <td>0.0</td>\n",
       "      <td>0</td>\n",
       "    </tr>\n",
       "  </tbody>\n",
       "</table>\n",
       "</div>"
      ],
      "text/plain": [
       "   student_id grp    rev  purch\n",
       "0        1627   A  990.0      1\n",
       "1        2085   B    0.0      0\n",
       "2        2215   B    0.0      0\n",
       "3        3391   A    0.0      0\n",
       "4        3401   B    0.0      0"
      ]
     },
     "execution_count": 186,
     "metadata": {},
     "output_type": "execute_result"
    }
   ],
   "source": [
    "df_students.head()"
   ]
  },
  {
   "cell_type": "markdown",
   "metadata": {},
   "source": [
    "Для каждой группы посчитаю:\n",
    "- кол-во уникальных клиентов - count_students;\n",
    "- общую выручку для каждой группы - total_rev;\n",
    "- кол-во реальных клиентов, кто совершил покупку - total_purch\n"
   ]
  },
  {
   "cell_type": "code",
   "execution_count": 187,
   "metadata": {},
   "outputs": [
    {
     "data": {
      "text/html": [
       "<div>\n",
       "<style scoped>\n",
       "    .dataframe tbody tr th:only-of-type {\n",
       "        vertical-align: middle;\n",
       "    }\n",
       "\n",
       "    .dataframe tbody tr th {\n",
       "        vertical-align: top;\n",
       "    }\n",
       "\n",
       "    .dataframe thead th {\n",
       "        text-align: right;\n",
       "    }\n",
       "</style>\n",
       "<table border=\"1\" class=\"dataframe\">\n",
       "  <thead>\n",
       "    <tr style=\"text-align: right;\">\n",
       "      <th></th>\n",
       "      <th>grp</th>\n",
       "      <th>count_students</th>\n",
       "      <th>total_rev</th>\n",
       "      <th>total_purch</th>\n",
       "    </tr>\n",
       "  </thead>\n",
       "  <tbody>\n",
       "    <tr>\n",
       "      <th>0</th>\n",
       "      <td>A</td>\n",
       "      <td>1538</td>\n",
       "      <td>72820.0000</td>\n",
       "      <td>78</td>\n",
       "    </tr>\n",
       "    <tr>\n",
       "      <th>1</th>\n",
       "      <td>B</td>\n",
       "      <td>6803</td>\n",
       "      <td>394974.0035</td>\n",
       "      <td>314</td>\n",
       "    </tr>\n",
       "  </tbody>\n",
       "</table>\n",
       "</div>"
      ],
      "text/plain": [
       "  grp  count_students    total_rev  total_purch\n",
       "0   A            1538   72820.0000           78\n",
       "1   B            6803  394974.0035          314"
      ]
     },
     "execution_count": 187,
     "metadata": {},
     "output_type": "execute_result"
    }
   ],
   "source": [
    "df_for_cr = df_students.groupby('grp',as_index=False).agg({'student_id':'nunique',\n",
    "                               'rev':'sum',\n",
    "                               'purch':'sum'}) \\\n",
    "                                        .rename(columns={'student_id':'count_students',\n",
    "                                                        'rev':'total_rev',\n",
    "                                                        'purch':'total_purch'})\n",
    "\n",
    "df_for_cr"
   ]
  },
  {
   "cell_type": "code",
   "execution_count": 188,
   "metadata": {},
   "outputs": [],
   "source": [
    "#Добавлю колонку с конверсией в покупку \n",
    "df_for_cr['cr'] = round((df_for_cr['total_purch'] / df_for_cr['count_students']) * 100,2)"
   ]
  },
  {
   "cell_type": "code",
   "execution_count": 189,
   "metadata": {},
   "outputs": [
    {
     "data": {
      "text/html": [
       "<div>\n",
       "<style scoped>\n",
       "    .dataframe tbody tr th:only-of-type {\n",
       "        vertical-align: middle;\n",
       "    }\n",
       "\n",
       "    .dataframe tbody tr th {\n",
       "        vertical-align: top;\n",
       "    }\n",
       "\n",
       "    .dataframe thead th {\n",
       "        text-align: right;\n",
       "    }\n",
       "</style>\n",
       "<table border=\"1\" class=\"dataframe\">\n",
       "  <thead>\n",
       "    <tr style=\"text-align: right;\">\n",
       "      <th></th>\n",
       "      <th>grp</th>\n",
       "      <th>count_students</th>\n",
       "      <th>total_rev</th>\n",
       "      <th>total_purch</th>\n",
       "      <th>cr</th>\n",
       "    </tr>\n",
       "  </thead>\n",
       "  <tbody>\n",
       "    <tr>\n",
       "      <th>0</th>\n",
       "      <td>A</td>\n",
       "      <td>1538</td>\n",
       "      <td>72820.0000</td>\n",
       "      <td>78</td>\n",
       "      <td>5.07</td>\n",
       "    </tr>\n",
       "    <tr>\n",
       "      <th>1</th>\n",
       "      <td>B</td>\n",
       "      <td>6803</td>\n",
       "      <td>394974.0035</td>\n",
       "      <td>314</td>\n",
       "      <td>4.62</td>\n",
       "    </tr>\n",
       "  </tbody>\n",
       "</table>\n",
       "</div>"
      ],
      "text/plain": [
       "  grp  count_students    total_rev  total_purch    cr\n",
       "0   A            1538   72820.0000           78  5.07\n",
       "1   B            6803  394974.0035          314  4.62"
      ]
     },
     "execution_count": 189,
     "metadata": {},
     "output_type": "execute_result"
    }
   ],
   "source": [
    "df_for_cr"
   ]
  },
  {
   "cell_type": "markdown",
   "metadata": {},
   "source": [
    "Получается, что в тестовой группе конверсия в покупку ниже, чем в контрольной группе. Нужно теперь понять эти различия статистически значимы или нет."
   ]
  },
  {
   "cell_type": "code",
   "execution_count": 190,
   "metadata": {},
   "outputs": [
    {
     "data": {
      "image/png": "[encoded data removed]",
      "text/plain": [
       "<Figure size 432x288 with 1 Axes>"
      ]
     },
     "metadata": {
      "needs_background": "light"
     },
     "output_type": "display_data"
    }
   ],
   "source": [
    "#Визуализация: значение CR в контрольной и тестовой группах\n",
    "\n",
    "df_for_cr[['grp','cr']].set_index('grp').plot(kind='barh')\n",
    "\n",
    "plt.title('CR в группах', fontsize=15)\n",
    "plt.xlabel(\"CR\",fontsize=10)\n",
    "plt.ylabel(\"Группа\",fontsize=10)\n",
    "plt.legend()\n",
    "plt.show()"
   ]
  },
  {
   "cell_type": "markdown",
   "metadata": {},
   "source": [
    "#### Сформулирую гипотезы, которые буду проверять в этом эксперименте\n",
    "1. Нулевая гипотеза (H0): Разницы между конверсией в покупку в тестовой и контрольной группе нет\n",
    "\n",
    "2. Альтернативная гипотеза (H1): Разница между конверсией в покупку в тестовой и контрольной группе есть"
   ]
  },
  {
   "cell_type": "markdown",
   "metadata": {},
   "source": [
    "Выбор стат теста зависит к какому типу метрика относится. Мы сейчас работаем с конверсией в покупку. Это метрика относится к пропорционным метрикам == пропорция. \n",
    "Наилучший метод чтобы проверить статистическую значимость изменения для пропорций это метод Хи‑Квадрат."
   ]
  },
  {
   "cell_type": "code",
   "execution_count": 191,
   "metadata": {},
   "outputs": [],
   "source": [
    "#Выделю в отдельную таблицу нужные данные для стат теста. Функция chi2_contingency принимает на вход табличку.\n",
    "\n",
    "t = df_for_cr[['grp','count_students','total_purch']]"
   ]
  },
  {
   "cell_type": "code",
   "execution_count": 192,
   "metadata": {},
   "outputs": [],
   "source": [
    "#становлю столбец в качестве индекса \n",
    "t.set_index('grp',inplace=True)"
   ]
  },
  {
   "cell_type": "code",
   "execution_count": 193,
   "metadata": {},
   "outputs": [
    {
     "data": {
      "text/html": [
       "<div>\n",
       "<style scoped>\n",
       "    .dataframe tbody tr th:only-of-type {\n",
       "        vertical-align: middle;\n",
       "    }\n",
       "\n",
       "    .dataframe tbody tr th {\n",
       "        vertical-align: top;\n",
       "    }\n",
       "\n",
       "    .dataframe thead th {\n",
       "        text-align: right;\n",
       "    }\n",
       "</style>\n",
       "<table border=\"1\" class=\"dataframe\">\n",
       "  <thead>\n",
       "    <tr style=\"text-align: right;\">\n",
       "      <th></th>\n",
       "      <th>count_students</th>\n",
       "      <th>total_purch</th>\n",
       "    </tr>\n",
       "    <tr>\n",
       "      <th>grp</th>\n",
       "      <th></th>\n",
       "      <th></th>\n",
       "    </tr>\n",
       "  </thead>\n",
       "  <tbody>\n",
       "    <tr>\n",
       "      <th>A</th>\n",
       "      <td>1538</td>\n",
       "      <td>78</td>\n",
       "    </tr>\n",
       "    <tr>\n",
       "      <th>B</th>\n",
       "      <td>6803</td>\n",
       "      <td>314</td>\n",
       "    </tr>\n",
       "  </tbody>\n",
       "</table>\n",
       "</div>"
      ],
      "text/plain": [
       "     count_students  total_purch\n",
       "grp                             \n",
       "A              1538           78\n",
       "B              6803          314"
      ]
     },
     "execution_count": 193,
     "metadata": {},
     "output_type": "execute_result"
    }
   ],
   "source": [
    "#Получившаяся таблица, для стат теста. \n",
    "t"
   ]
  },
  {
   "cell_type": "code",
   "execution_count": 194,
   "metadata": {},
   "outputs": [],
   "source": [
    "stat, p, dof, expected = chi2_contingency(t)"
   ]
  },
  {
   "cell_type": "code",
   "execution_count": 195,
   "metadata": {},
   "outputs": [
    {
     "data": {
      "text/plain": [
       "(0.43612258061018483, 0.5089998823014525)"
      ]
     },
     "execution_count": 195,
     "metadata": {},
     "output_type": "execute_result"
    }
   ],
   "source": [
    "stat, p"
   ]
  },
  {
   "cell_type": "markdown",
   "metadata": {},
   "source": [
    "##### Интерпретируем результат:"
   ]
  },
  {
   "cell_type": "code",
   "execution_count": 196,
   "metadata": {},
   "outputs": [
    {
     "name": "stdout",
     "output_type": "stream",
     "text": [
      "Не получили статистически значимых различий. Альтернативная гипотеза отклоняется\n"
     ]
    }
   ],
   "source": [
    "prob = 0.95\n",
    "alpha = 1.0 - prob\n",
    "if p <= alpha:\n",
    "    print('Получили статистически значимые различия. Нулевая гипотеза отклоняется')\n",
    "else:\n",
    "    print('Не получили статистически значимых различий. Альтернативная гипотеза отклоняется')"
   ]
  },
  {
   "cell_type": "markdown",
   "metadata": {},
   "source": [
    "**Вывод:**\n",
    "\n",
    "Для проверки этой гипотезы я использую ХИ-КВАДРАТ, поскольку эту метрику можно отнести к пропорции. Альтернативная гипотеза ОТКЛОНЯЕТСЯ, поскольку p-value > 0. 05. Значит, значимых различий в конверсии между группами не наблюдается."
   ]
  },
  {
   "cell_type": "markdown",
   "metadata": {},
   "source": [
    "### 2. Анализ метрики - ARPU - средняя выручка на 1го пользователя\n",
    "\n",
    "Формула: \n",
    "\n",
    "ARPU = Доход / Кол-во уникальных пользователей"
   ]
  },
  {
   "cell_type": "markdown",
   "metadata": {},
   "source": [
    "Также можно использовать этот дф для расчета этой метрики - **df_for_cr**"
   ]
  },
  {
   "cell_type": "code",
   "execution_count": 197,
   "metadata": {},
   "outputs": [],
   "source": [
    "#сохраню в отдельный дф нужные колонки\n",
    "\n",
    "df_metrics = df_for_cr[['grp','count_students','total_rev']].copy()"
   ]
  },
  {
   "cell_type": "code",
   "execution_count": 198,
   "metadata": {},
   "outputs": [],
   "source": [
    "#расчитаю нужную метрику\n",
    "df_metrics['ARPU'] = round(df_metrics['total_rev']/df_metrics['count_students'],2)"
   ]
  },
  {
   "cell_type": "code",
   "execution_count": 199,
   "metadata": {},
   "outputs": [
    {
     "data": {
      "text/html": [
       "<div>\n",
       "<style scoped>\n",
       "    .dataframe tbody tr th:only-of-type {\n",
       "        vertical-align: middle;\n",
       "    }\n",
       "\n",
       "    .dataframe tbody tr th {\n",
       "        vertical-align: top;\n",
       "    }\n",
       "\n",
       "    .dataframe thead th {\n",
       "        text-align: right;\n",
       "    }\n",
       "</style>\n",
       "<table border=\"1\" class=\"dataframe\">\n",
       "  <thead>\n",
       "    <tr style=\"text-align: right;\">\n",
       "      <th></th>\n",
       "      <th>grp</th>\n",
       "      <th>ARPU</th>\n",
       "    </tr>\n",
       "  </thead>\n",
       "  <tbody>\n",
       "    <tr>\n",
       "      <th>0</th>\n",
       "      <td>A</td>\n",
       "      <td>47.35</td>\n",
       "    </tr>\n",
       "    <tr>\n",
       "      <th>1</th>\n",
       "      <td>B</td>\n",
       "      <td>58.06</td>\n",
       "    </tr>\n",
       "  </tbody>\n",
       "</table>\n",
       "</div>"
      ],
      "text/plain": [
       "  grp   ARPU\n",
       "0   A  47.35\n",
       "1   B  58.06"
      ]
     },
     "execution_count": 199,
     "metadata": {},
     "output_type": "execute_result"
    }
   ],
   "source": [
    "df_metrics[['grp','ARPU']]"
   ]
  },
  {
   "cell_type": "markdown",
   "metadata": {},
   "source": [
    "Получается, что в ARPU средняя выручка на 1го пользователя в тестовой группе выше, чем в контрольной. Проверю это различия стат значимо или нет. "
   ]
  },
  {
   "cell_type": "markdown",
   "metadata": {},
   "source": [
    "#### Сформулирую гипотезы, которые буду проверять в этом эксперименте\n",
    "1. Нулевая гипотеза (H0): Разницы между arpu в тестовой и контрольной группе нет\n",
    "\n",
    "2. Альтернативная гипотеза (H1): Разница между arpu в тестовой и контрольной группе есть\n",
    "\n",
    "\n",
    "Выбор стат теста. У меня есть две группы и метрика APRU является количественной переменной (средняя выручка на 1го пользов.), поэтому т-тест будет более подходящим выбором."
   ]
  },
  {
   "cell_type": "code",
   "execution_count": 200,
   "metadata": {},
   "outputs": [],
   "source": [
    "#Выделю выборки для проведения стат.теста\n",
    "arpu_A = df_students.query('grp == \"A\"').rev\n",
    "arpu_B =df_students.query('grp == \"B\"').rev"
   ]
  },
  {
   "cell_type": "markdown",
   "metadata": {},
   "source": [
    "##### Визуализация распределения данных в группах"
   ]
  },
  {
   "cell_type": "code",
   "execution_count": 201,
   "metadata": {},
   "outputs": [
    {
     "name": "stderr",
     "output_type": "stream",
     "text": [
      "/opt/tljh/user/lib/python3.7/site-packages/seaborn/distributions.py:2557: FutureWarning: `distplot` is a deprecated function and will be removed in a future version. Please adapt your code to use either `displot` (a figure-level function with similar flexibility) or `histplot` (an axes-level function for histograms).\n",
      "  warnings.warn(msg, FutureWarning)\n",
      "/opt/tljh/user/lib/python3.7/site-packages/seaborn/distributions.py:2557: FutureWarning: `distplot` is a deprecated function and will be removed in a future version. Please adapt your code to use either `displot` (a figure-level function with similar flexibility) or `histplot` (an axes-level function for histograms).\n",
      "  warnings.warn(msg, FutureWarning)\n"
     ]
    },
    {
     "data": {
      "image/png": "[encoded data removed]",
      "text/plain": [
       "<Figure size 432x288 with 1 Axes>"
      ]
     },
     "metadata": {
      "needs_background": "light"
     },
     "output_type": "display_data"
    }
   ],
   "source": [
    "#Посмотрю на распределение\n",
    "\n",
    "sns.distplot(arpu_A,color=\"dodgerblue\", label=\"group_A\",kde=True)\n",
    "sns.distplot(arpu_B, color=\"orange\", label=\"group_B\",kde=True)\n",
    "\n",
    "# Decoration\n",
    "plt.title('Распределние ARPU в группах', fontsize=10)\n",
    "plt.legend()\n",
    "plt.show()"
   ]
  },
  {
   "cell_type": "markdown",
   "metadata": {},
   "source": [
    "Распределние не похоже на нормальное, оно скошено влево. Обычно при таких вводных используют непараметрику, но насколько мне известно из лекций, что т-тест можно использовать. Я думаю значения адекватные, поскольку в каждой выборке около 5% платящих пользователей. Остальные 95% не совершили покупку. \n"
   ]
  },
  {
   "cell_type": "code",
   "execution_count": 202,
   "metadata": {},
   "outputs": [
    {
     "name": "stdout",
     "output_type": "stream",
     "text": [
      "Не получили статистически значимых различий. Альтернативная гипотеза отклоняется\n"
     ]
    }
   ],
   "source": [
    "#Для сравнения метрики в экспериментальной и контрольной группах я использую STUDENT'S T-TEST\n",
    "_, p = stats.ttest_ind(arpu_A, arpu_B)\n",
    "if p > 0.05:\n",
    "    print('Не получили статистически значимых различий. Альтернативная гипотеза отклоняется')\n",
    "else:\n",
    "    print('Нулевая гипотеза отклоняется. Получили стат значимые различия')"
   ]
  },
  {
   "cell_type": "markdown",
   "metadata": {},
   "source": [
    "##### Вывод\n",
    "\n",
    "В ходе этого эксперимента я не получила статистически значимых различий между метрикой **ARPU** в группе с БАЗОВОЙ МЕХАНИКОЙ ОПЛАТЫ  и с НОВОЙ МЕХАНИКОЙ ОПЛАТЫ. "
   ]
  },
  {
   "cell_type": "markdown",
   "metadata": {},
   "source": [
    "### 3. Анализ метрики - ARPPU"
   ]
  },
  {
   "cell_type": "code",
   "execution_count": 203,
   "metadata": {},
   "outputs": [
    {
     "data": {
      "text/html": [
       "<div>\n",
       "<style scoped>\n",
       "    .dataframe tbody tr th:only-of-type {\n",
       "        vertical-align: middle;\n",
       "    }\n",
       "\n",
       "    .dataframe tbody tr th {\n",
       "        vertical-align: top;\n",
       "    }\n",
       "\n",
       "    .dataframe thead th {\n",
       "        text-align: right;\n",
       "    }\n",
       "</style>\n",
       "<table border=\"1\" class=\"dataframe\">\n",
       "  <thead>\n",
       "    <tr style=\"text-align: right;\">\n",
       "      <th></th>\n",
       "      <th>student_id</th>\n",
       "      <th>grp</th>\n",
       "      <th>rev</th>\n",
       "      <th>purch</th>\n",
       "    </tr>\n",
       "  </thead>\n",
       "  <tbody>\n",
       "    <tr>\n",
       "      <th>0</th>\n",
       "      <td>1627</td>\n",
       "      <td>A</td>\n",
       "      <td>990.0</td>\n",
       "      <td>1</td>\n",
       "    </tr>\n",
       "    <tr>\n",
       "      <th>1</th>\n",
       "      <td>2085</td>\n",
       "      <td>B</td>\n",
       "      <td>0.0</td>\n",
       "      <td>0</td>\n",
       "    </tr>\n",
       "    <tr>\n",
       "      <th>2</th>\n",
       "      <td>2215</td>\n",
       "      <td>B</td>\n",
       "      <td>0.0</td>\n",
       "      <td>0</td>\n",
       "    </tr>\n",
       "    <tr>\n",
       "      <th>3</th>\n",
       "      <td>3391</td>\n",
       "      <td>A</td>\n",
       "      <td>0.0</td>\n",
       "      <td>0</td>\n",
       "    </tr>\n",
       "    <tr>\n",
       "      <th>4</th>\n",
       "      <td>3401</td>\n",
       "      <td>B</td>\n",
       "      <td>0.0</td>\n",
       "      <td>0</td>\n",
       "    </tr>\n",
       "  </tbody>\n",
       "</table>\n",
       "</div>"
      ],
      "text/plain": [
       "   student_id grp    rev  purch\n",
       "0        1627   A  990.0      1\n",
       "1        2085   B    0.0      0\n",
       "2        2215   B    0.0      0\n",
       "3        3391   A    0.0      0\n",
       "4        3401   B    0.0      0"
      ]
     },
     "execution_count": 203,
     "metadata": {},
     "output_type": "execute_result"
    }
   ],
   "source": [
    "df_students.head()"
   ]
  },
  {
   "cell_type": "code",
   "execution_count": 204,
   "metadata": {},
   "outputs": [],
   "source": [
    "#Выделю выборки для проведения стат.теста\n",
    "ARPPU_A = df_students.query('grp == \"A\" and purch>0').rev\n",
    "ARPPU_B = df_students.query('grp == \"B\" and purch>0').rev"
   ]
  },
  {
   "cell_type": "code",
   "execution_count": 205,
   "metadata": {},
   "outputs": [
    {
     "name": "stdout",
     "output_type": "stream",
     "text": [
      "Значение ARPPU в КОНТРОЛЬНОЙ ГРУППЕ 933.59\n",
      "\n",
      "Значение ARPPU в ТЕСТОВОЙ ГРУППЕ 1257.88\n"
     ]
    }
   ],
   "source": [
    "# значение среднего чека в группах \n",
    "\n",
    "print(f'Значение ARPPU в КОНТРОЛЬНОЙ ГРУППЕ {round(ARPPU_A.mean(),2)}')\n",
    "print()\n",
    "print(f'Значение ARPPU в ТЕСТОВОЙ ГРУППЕ {round(ARPPU_B.mean(),2)}')"
   ]
  },
  {
   "cell_type": "markdown",
   "metadata": {},
   "source": [
    "Получается, что доход от платящего пользователя в тестовой группе больше, чем в контрольной. Нужно теперь понять эти различия статистически значимы или нет."
   ]
  },
  {
   "cell_type": "markdown",
   "metadata": {},
   "source": [
    "#### Сформулирую гипотезы, которые буду проверять в этом эксперименте\n",
    "1. Нулевая гипотеза (H0): Разницы между ARPPU в тестовой и контрольной группе нет\n",
    "\n",
    "2. Альтернативная гипотеза (H1): Разница между ARPPU в тестовой и контрольной группе есть\n"
   ]
  },
  {
   "cell_type": "markdown",
   "metadata": {},
   "source": [
    "##### Визуализирую распределние "
   ]
  },
  {
   "cell_type": "code",
   "execution_count": 208,
   "metadata": {},
   "outputs": [
    {
     "name": "stderr",
     "output_type": "stream",
     "text": [
      "/opt/tljh/user/lib/python3.7/site-packages/seaborn/distributions.py:2557: FutureWarning: `distplot` is a deprecated function and will be removed in a future version. Please adapt your code to use either `displot` (a figure-level function with similar flexibility) or `histplot` (an axes-level function for histograms).\n",
      "  warnings.warn(msg, FutureWarning)\n",
      "/opt/tljh/user/lib/python3.7/site-packages/seaborn/distributions.py:2557: FutureWarning: `distplot` is a deprecated function and will be removed in a future version. Please adapt your code to use either `displot` (a figure-level function with similar flexibility) or `histplot` (an axes-level function for histograms).\n",
      "  warnings.warn(msg, FutureWarning)\n"
     ]
    },
    {
     "data": {
      "image/png": "[encoded data removed]",
      "text/plain": [
       "<Figure size 432x288 with 1 Axes>"
      ]
     },
     "metadata": {
      "needs_background": "light"
     },
     "output_type": "display_data"
    }
   ],
   "source": [
    "#Посмотрю на распределение\n",
    "\n",
    "sns.distplot(ARPPU_A,color=\"dodgerblue\", label=\"group_A\",kde=True)\n",
    "sns.distplot(ARPPU_B, color=\"orange\", label=\"group_B\",kde=True)\n",
    "\n",
    "# Decoration\n",
    "plt.title('Распределние rev в группах', fontsize=10)\n",
    "plt.legend()\n",
    "plt.show()"
   ]
  },
  {
   "cell_type": "markdown",
   "metadata": {},
   "source": [
    "Распределние не похоже на нормальное. \n",
    "Проведу стат тесты:\n",
    "1. Тест на проверку условий нормальности\n",
    "2. Гомогенность дисперсий\n"
   ]
  },
  {
   "cell_type": "markdown",
   "metadata": {},
   "source": [
    "**Проверю выполнение условий на нормальность.**"
   ]
  },
  {
   "cell_type": "code",
   "execution_count": 209,
   "metadata": {},
   "outputs": [
    {
     "name": "stdout",
     "output_type": "stream",
     "text": [
      "Значения в контрольной выборке распределены ненормально p-value:2.5316868804220266e-07\n"
     ]
    }
   ],
   "source": [
    "# Кнтрольная группа проверка выборки на нормальность \n",
    "_,p = stats.normaltest(ARPPU_A)\n",
    "if p < 0.05:\n",
    "    print(f'Значения в контрольной выборке распределены ненормально p-value:{p}')\n",
    "else:\n",
    "    print(f'Значения в контрольной выборке распределены нормально p-value:{p}')"
   ]
  },
  {
   "cell_type": "code",
   "execution_count": 210,
   "metadata": {},
   "outputs": [
    {
     "name": "stdout",
     "output_type": "stream",
     "text": [
      "Значения в тестовой выборке распределены ненормально p-value:0.033445723194625424\n"
     ]
    }
   ],
   "source": [
    "# Тестовая группа проверка выборки на нормальность \n",
    "_,p = stats.normaltest(ARPPU_B)\n",
    "if p < 0.05:\n",
    "    print(f'Значения в тестовой выборке распределены ненормально p-value:{p}')\n",
    "else:\n",
    "    print(f'Значения в тестовой выборке распределены нормально p-value:{p}')"
   ]
  },
  {
   "cell_type": "markdown",
   "metadata": {},
   "source": [
    "**Гомогенность дисперсий**"
   ]
  },
  {
   "cell_type": "code",
   "execution_count": 211,
   "metadata": {},
   "outputs": [
    {
     "name": "stdout",
     "output_type": "stream",
     "text": [
      "Дисперсии внутри наших групп одинаковы. Требование гомогенности дисперсий соблюдается.\n"
     ]
    }
   ],
   "source": [
    "#Проверка на гомогенность дисперсий с помощью критерия Левена.\n",
    "\n",
    "_, p = stats.levene(ARPPU_A, ARPPU_B)\n",
    "if p > 0.05:\n",
    "    print('Дисперсии внутри наших групп одинаковы. Требование гомогенности дисперсий соблюдается.')\n",
    "else:\n",
    "    print('Дисперсии в наших группах различны. Требование гомогенности дисперсия не соблюдается')"
   ]
  },
  {
   "cell_type": "markdown",
   "metadata": {},
   "source": [
    "Выходит требование гомогенности дисперсий соблюдается, но значения в выборке в обоих группах распределены ненормально.\n",
    "Можно провести т-тест, как я делала с прошлой метрикой, но думаю следует применить бутстрап для сравнения ARPPU. "
   ]
  },
  {
   "cell_type": "markdown",
   "metadata": {},
   "source": [
    "##### Подготовим данные для загрузки в бутстрап"
   ]
  },
  {
   "cell_type": "code",
   "execution_count": 212,
   "metadata": {},
   "outputs": [],
   "source": [
    "#Данные для бутстрапа\n",
    "sample_A = (df_students.query('grp == \"A\" and purch > 0').rev, )\n",
    "sample_B = (df_students.query('grp == \"B\" and purch > 0').rev, )"
   ]
  },
  {
   "cell_type": "markdown",
   "metadata": {},
   "source": [
    "###### Bootstrap ддя контрольной группы"
   ]
  },
  {
   "cell_type": "code",
   "execution_count": 215,
   "metadata": {},
   "outputs": [
    {
     "data": {
      "text/plain": [
       "BootstrapResult(confidence_interval=ConfidenceInterval(low=756.2755847894987, high=1159.6616291251812), standard_error=102.50376087736122)"
      ]
     },
     "execution_count": 215,
     "metadata": {},
     "output_type": "execute_result"
    }
   ],
   "source": [
    "#Кладем в функцию выборку и выбераем показатель - среднее\n",
    "bootstrap(sample_A, np.mean)"
   ]
  },
  {
   "cell_type": "markdown",
   "metadata": {},
   "source": [
    "###### Bootstrap ддя тестовой группы"
   ]
  },
  {
   "cell_type": "code",
   "execution_count": 216,
   "metadata": {},
   "outputs": [
    {
     "data": {
      "text/plain": [
       "BootstrapResult(confidence_interval=ConfidenceInterval(low=1171.7103324385034, high=1347.0148974689803), standard_error=44.93639395803596)"
      ]
     },
     "execution_count": 216,
     "metadata": {},
     "output_type": "execute_result"
    }
   ],
   "source": [
    "#Кладем в функцию выборку и выбераем показатель - среднее\n",
    "bootstrap(sample_B, np.mean) #--- выдает ошибку"
   ]
  },
  {
   "cell_type": "markdown",
   "metadata": {},
   "source": [
    "##### Вывод\n",
    "\n",
    "Интервалы не пересекаются. Это позволяет с высокой степенью вероятности делать выводы о том, что результат оказался статистически ЗНАЧИМ."
   ]
  },
  {
   "cell_type": "markdown",
   "metadata": {},
   "source": [
    "## Вывод по 1 Заданию \n",
    "\n",
    "1. В ходе анализа первое, что я выяснила, что было неравномерное распределение по группам. В контрольной группе было 14693 это почти 20% от общего числа. В экспер.группе было 59883 это около 80% от общего. В эксперименте участвовало 8341 пользователя. В контрольной группе 1538 это 18% от общего числа. В экспер.группе 6803 почти 82% от общего числа. Я думаю, это в итоге могло сказаться на результате аб теста. \n",
    "2. Также, были обнаружены 149 пользователей, которые совершили оплату, но без посещения образовательной платформы во время проведения эксперимента. Скорее всего они перешли сразу на оплату, может быть, это было специальное предложение. \n",
    "3. Проведенный анализ показал, что в группе б пользователи вели себя активно и самый популярный чек был на 1900т, могу предположить, что в дни проведения эксперимента, была запущена акция, выгодное предложение. Либо это были новые пользователи и они вели себя активнее. Это может говорить о неверном делении на группы. \n",
    "4. Я выделила 3 метрики для нахождения стат значимых различий между группами. Две метрики, а именно: конверсия в покупку и ARPU не дали стат значимых различий, это была случайная флуктуация. \n",
    "\n",
    "Статистический анализ метрик показал, что в группе пользователей с новой механикой оплаты - статистически увеличился средний чек платящего пользователя, они активнее покупали, самый популярный чек был на 1900т. Повторюсь, видимо была запущена акция/выгодное предложение/рекл компания. Также я анализировала конверсию в покупку и ARPU в группах, анализ не дал статистически значимых различий. Механика оплаты повлияла только на доход от платящих пользователей, но не повлияла на конверсию. Скорее всего на увеличение среднего чека плат пользователей повлиял не запуск новой механики оплаты, а что-то другое. \n",
    "\n",
    "5. Я думаю пока не нужно катить новую механику оплаты на всех пользователей. Нужно разобраться, что могло повлиять на увеличение ARPPU. А также разобраться как были сформированы группы для теста. Учесть все ошибки и провести другой аб тест. "
   ]
  },
  {
   "cell_type": "markdown",
   "metadata": {},
   "source": [
    "## Задание 2. SQL\n",
    "**2.1 Очень усердные ученики.**\n",
    "\n",
    "**2.1.1 Условие**\n",
    "\n",
    "Образовательные курсы состоят из различных уроков, каждый из которых состоит из нескольких маленьких заданий. Каждое такое маленькое задание называется \"горошиной\".\n",
    "\n",
    "Назовём очень усердным учеником того пользователя, который хотя бы раз за текущий месяц правильно решил 20 горошин.\n",
    "\n",
    "**2.1.2 Задача**\n",
    "Необходимо написать оптимальный запрос, который даст информацию о количестве очень усердных студентов.NB! Под усердным студентом мы понимаем студента, который правильно решил 20 задач за текущий месяц."
   ]
  },
  {
   "cell_type": "code",
   "execution_count": 93,
   "metadata": {},
   "outputs": [],
   "source": [
    "#Подключаемся к кликхаусу\n",
    "\n",
    "connection_default = {'host': 'https://clickhouse.lab.karpov.courses',\n",
    "                      'database':'default',\n",
    "                      'user':'student', \n",
    "                      'password':'dpo_python_2020'\n",
    "                     }"
   ]
  },
  {
   "cell_type": "code",
   "execution_count": 94,
   "metadata": {},
   "outputs": [],
   "source": [
    "def select(sql):\n",
    "    return ph.read_clickhouse(query=sql, connection=connection_default)"
   ]
  },
  {
   "cell_type": "code",
   "execution_count": 95,
   "metadata": {},
   "outputs": [],
   "source": [
    "# создаем запрос, db автоматически заменится на значение из database\n",
    "sql = '''\n",
    "    SELECT st_id,\n",
    "           toStartOfMonth(timest) as month,\n",
    "           correct, subject\n",
    "    FROM {db}.peas   \n",
    "    '''"
   ]
  },
  {
   "cell_type": "code",
   "execution_count": 96,
   "metadata": {},
   "outputs": [],
   "source": [
    "#Загрузила для просмотра данные\n",
    "df_all = select(sql)"
   ]
  },
  {
   "cell_type": "code",
   "execution_count": 97,
   "metadata": {},
   "outputs": [
    {
     "data": {
      "text/html": [
       "<div>\n",
       "<style scoped>\n",
       "    .dataframe tbody tr th:only-of-type {\n",
       "        vertical-align: middle;\n",
       "    }\n",
       "\n",
       "    .dataframe tbody tr th {\n",
       "        vertical-align: top;\n",
       "    }\n",
       "\n",
       "    .dataframe thead th {\n",
       "        text-align: right;\n",
       "    }\n",
       "</style>\n",
       "<table border=\"1\" class=\"dataframe\">\n",
       "  <thead>\n",
       "    <tr style=\"text-align: right;\">\n",
       "      <th></th>\n",
       "      <th>st_id</th>\n",
       "      <th>month</th>\n",
       "      <th>correct</th>\n",
       "      <th>subject</th>\n",
       "    </tr>\n",
       "  </thead>\n",
       "  <tbody>\n",
       "    <tr>\n",
       "      <th>0</th>\n",
       "      <td>100379</td>\n",
       "      <td>2021-10-01</td>\n",
       "      <td>1</td>\n",
       "      <td>Theory of probability</td>\n",
       "    </tr>\n",
       "    <tr>\n",
       "      <th>1</th>\n",
       "      <td>100379</td>\n",
       "      <td>2021-10-01</td>\n",
       "      <td>0</td>\n",
       "      <td>Vizualization</td>\n",
       "    </tr>\n",
       "    <tr>\n",
       "      <th>2</th>\n",
       "      <td>100379</td>\n",
       "      <td>2021-10-01</td>\n",
       "      <td>1</td>\n",
       "      <td>Theory of probability</td>\n",
       "    </tr>\n",
       "    <tr>\n",
       "      <th>3</th>\n",
       "      <td>100379</td>\n",
       "      <td>2021-10-01</td>\n",
       "      <td>1</td>\n",
       "      <td>Vizualization</td>\n",
       "    </tr>\n",
       "    <tr>\n",
       "      <th>4</th>\n",
       "      <td>100379</td>\n",
       "      <td>2021-10-01</td>\n",
       "      <td>1</td>\n",
       "      <td>Theory of probability</td>\n",
       "    </tr>\n",
       "  </tbody>\n",
       "</table>\n",
       "</div>"
      ],
      "text/plain": [
       "    st_id      month  correct                subject\n",
       "0  100379 2021-10-01        1  Theory of probability\n",
       "1  100379 2021-10-01        0          Vizualization\n",
       "2  100379 2021-10-01        1  Theory of probability\n",
       "3  100379 2021-10-01        1          Vizualization\n",
       "4  100379 2021-10-01        1  Theory of probability"
      ]
     },
     "execution_count": 97,
     "metadata": {},
     "output_type": "execute_result"
    }
   ],
   "source": [
    "df_all.head()"
   ]
  },
  {
   "cell_type": "code",
   "execution_count": 98,
   "metadata": {},
   "outputs": [],
   "source": [
    "# создаем запрос, о количестве очень усердных студентов\n",
    "sql = '''\n",
    "\n",
    "SELECT COUNT(st_id) as students\n",
    "FROM(\n",
    "SELECT st_id,\n",
    "       toStartOfMonth(timest) as timest,\n",
    "       COUNT(correct) as count_correct\n",
    "FROM {db}.peas\n",
    "WHERE correct = 1\n",
    "GROUP BY st_id, toStartOfMonth(timest) as timest\n",
    "HAVING count_correct >= 20) as t\n",
    "    '''"
   ]
  },
  {
   "cell_type": "code",
   "execution_count": 99,
   "metadata": {},
   "outputs": [
    {
     "name": "stdout",
     "output_type": "stream",
     "text": [
      "Количество усердных студентов: 136\n"
     ]
    }
   ],
   "source": [
    "smart_st = select(sql)\n",
    "\n",
    "print(f'Количество усердных студентов: {smart_st.students[0]}')"
   ]
  },
  {
   "cell_type": "markdown",
   "metadata": {},
   "source": [
    "**2.2 Оптимизация воронки**\n",
    "\n",
    "**2.2.1 Условие**\n",
    "\n",
    "Образовательная платформа предлагает пройти студентам курсы по модели trial: студент может решить бесплатно лишь 30 горошин в день. Для неограниченного количества заданий в определенной дисциплине студенту необходимо приобрести полный доступ. Команда провела эксперимент, где был протестирован новый экран оплаты.\n",
    "\n",
    "**2.2.2 Задача**\n",
    "\n",
    "Даны таблицы: default.peas , default.studs, default.final_project_check\n",
    "\n",
    "Необходимо в одном запросе выгрузить следующую информацию о группах пользователей:\n",
    "\n",
    "- ARPU \n",
    "- ARPAU \n",
    "- CR в покупку \n",
    "- СR активного пользователя в покупку \n",
    "- CR пользователя из активности по математике (subject = ’math’) в покупку курса по математике\n",
    "- ARPU считается относительно всех пользователей, попавших в группы.\n",
    "\n",
    "Активным считается пользователь, за все время решивший больше 10 задач правильно в любых дисциплинах.\n",
    "\n",
    "Активным по математике считается пользователь, за все время решивший 2 или больше задач правильно по математике.\n"
   ]
  },
  {
   "cell_type": "markdown",
   "metadata": {},
   "source": [
    "Сначала изучу каждую таблицу. Загружу в панд дф"
   ]
  },
  {
   "cell_type": "code",
   "execution_count": 113,
   "metadata": {},
   "outputs": [
    {
     "data": {
      "text/html": [
       "<div>\n",
       "<style scoped>\n",
       "    .dataframe tbody tr th:only-of-type {\n",
       "        vertical-align: middle;\n",
       "    }\n",
       "\n",
       "    .dataframe tbody tr th {\n",
       "        vertical-align: top;\n",
       "    }\n",
       "\n",
       "    .dataframe thead th {\n",
       "        text-align: right;\n",
       "    }\n",
       "</style>\n",
       "<table border=\"1\" class=\"dataframe\">\n",
       "  <thead>\n",
       "    <tr style=\"text-align: right;\">\n",
       "      <th></th>\n",
       "      <th>st_id</th>\n",
       "      <th>act_time</th>\n",
       "      <th>correct</th>\n",
       "      <th>subject</th>\n",
       "    </tr>\n",
       "  </thead>\n",
       "  <tbody>\n",
       "    <tr>\n",
       "      <th>0</th>\n",
       "      <td>100379</td>\n",
       "      <td>2021-10-30</td>\n",
       "      <td>1</td>\n",
       "      <td>Theory of probability</td>\n",
       "    </tr>\n",
       "    <tr>\n",
       "      <th>1</th>\n",
       "      <td>100379</td>\n",
       "      <td>2021-10-30</td>\n",
       "      <td>0</td>\n",
       "      <td>Vizualization</td>\n",
       "    </tr>\n",
       "    <tr>\n",
       "      <th>2</th>\n",
       "      <td>100379</td>\n",
       "      <td>2021-10-30</td>\n",
       "      <td>1</td>\n",
       "      <td>Theory of probability</td>\n",
       "    </tr>\n",
       "    <tr>\n",
       "      <th>3</th>\n",
       "      <td>100379</td>\n",
       "      <td>2021-10-30</td>\n",
       "      <td>1</td>\n",
       "      <td>Vizualization</td>\n",
       "    </tr>\n",
       "    <tr>\n",
       "      <th>4</th>\n",
       "      <td>100379</td>\n",
       "      <td>2021-10-30</td>\n",
       "      <td>1</td>\n",
       "      <td>Theory of probability</td>\n",
       "    </tr>\n",
       "  </tbody>\n",
       "</table>\n",
       "</div>"
      ],
      "text/plain": [
       "    st_id   act_time  correct                subject\n",
       "0  100379 2021-10-30        1  Theory of probability\n",
       "1  100379 2021-10-30        0          Vizualization\n",
       "2  100379 2021-10-30        1  Theory of probability\n",
       "3  100379 2021-10-30        1          Vizualization\n",
       "4  100379 2021-10-30        1  Theory of probability"
      ]
     },
     "execution_count": 113,
     "metadata": {},
     "output_type": "execute_result"
    }
   ],
   "source": [
    "# создаем запрос, db автоматически заменится на значение из database\n",
    "sql = '''\n",
    "    SELECT st_id,\n",
    "           toDate(timest) as act_time,\n",
    "           correct, subject\n",
    "    FROM {db}.peas  \n",
    "    '''\n",
    "#сохранаю первую табл в панд дф\n",
    "peas = select(sql)\n",
    "peas.head()"
   ]
  },
  {
   "cell_type": "code",
   "execution_count": 114,
   "metadata": {},
   "outputs": [
    {
     "data": {
      "text/plain": [
       "13245"
      ]
     },
     "execution_count": 114,
     "metadata": {},
     "output_type": "execute_result"
    }
   ],
   "source": [
    "peas.st_id.count()"
   ]
  },
  {
   "cell_type": "code",
   "execution_count": 115,
   "metadata": {},
   "outputs": [
    {
     "data": {
      "text/plain": [
       "308"
      ]
     },
     "execution_count": 115,
     "metadata": {},
     "output_type": "execute_result"
    }
   ],
   "source": [
    "#Кол-во уникальных студентов \n",
    "peas.st_id.nunique()"
   ]
  },
  {
   "cell_type": "code",
   "execution_count": 116,
   "metadata": {},
   "outputs": [
    {
     "data": {
      "text/html": [
       "<div>\n",
       "<style scoped>\n",
       "    .dataframe tbody tr th:only-of-type {\n",
       "        vertical-align: middle;\n",
       "    }\n",
       "\n",
       "    .dataframe tbody tr th {\n",
       "        vertical-align: top;\n",
       "    }\n",
       "\n",
       "    .dataframe thead th {\n",
       "        text-align: right;\n",
       "    }\n",
       "</style>\n",
       "<table border=\"1\" class=\"dataframe\">\n",
       "  <thead>\n",
       "    <tr style=\"text-align: right;\">\n",
       "      <th></th>\n",
       "      <th>st_id</th>\n",
       "      <th>test_grp</th>\n",
       "    </tr>\n",
       "  </thead>\n",
       "  <tbody>\n",
       "    <tr>\n",
       "      <th>0</th>\n",
       "      <td>100379</td>\n",
       "      <td>pilot</td>\n",
       "    </tr>\n",
       "    <tr>\n",
       "      <th>1</th>\n",
       "      <td>101432</td>\n",
       "      <td>control</td>\n",
       "    </tr>\n",
       "    <tr>\n",
       "      <th>2</th>\n",
       "      <td>104818</td>\n",
       "      <td>pilot</td>\n",
       "    </tr>\n",
       "    <tr>\n",
       "      <th>3</th>\n",
       "      <td>104885</td>\n",
       "      <td>pilot</td>\n",
       "    </tr>\n",
       "    <tr>\n",
       "      <th>4</th>\n",
       "      <td>104966</td>\n",
       "      <td>pilot</td>\n",
       "    </tr>\n",
       "  </tbody>\n",
       "</table>\n",
       "</div>"
      ],
      "text/plain": [
       "    st_id test_grp\n",
       "0  100379    pilot\n",
       "1  101432  control\n",
       "2  104818    pilot\n",
       "3  104885    pilot\n",
       "4  104966    pilot"
      ]
     },
     "execution_count": 116,
     "metadata": {},
     "output_type": "execute_result"
    }
   ],
   "source": [
    "# создаем запрос, db автоматически заменится на значение из database\n",
    "sql = '''\n",
    "    SELECT st_id,\n",
    "           test_grp\n",
    "    FROM {db}.studs  \n",
    "\n",
    "'''\n",
    "#сохраняю вторую табл в панд дф\n",
    "studs = select(sql)\n",
    "studs.head()"
   ]
  },
  {
   "cell_type": "code",
   "execution_count": 117,
   "metadata": {},
   "outputs": [
    {
     "data": {
      "text/plain": [
       "600"
      ]
     },
     "execution_count": 117,
     "metadata": {},
     "output_type": "execute_result"
    }
   ],
   "source": [
    "studs.st_id.count()"
   ]
  },
  {
   "cell_type": "code",
   "execution_count": 118,
   "metadata": {},
   "outputs": [
    {
     "data": {
      "text/plain": [
       "600"
      ]
     },
     "execution_count": 118,
     "metadata": {},
     "output_type": "execute_result"
    }
   ],
   "source": [
    "#Кол-во уникальных студентов\n",
    "studs.st_id.nunique()"
   ]
  },
  {
   "cell_type": "code",
   "execution_count": 119,
   "metadata": {},
   "outputs": [
    {
     "data": {
      "text/html": [
       "<div>\n",
       "<style scoped>\n",
       "    .dataframe tbody tr th:only-of-type {\n",
       "        vertical-align: middle;\n",
       "    }\n",
       "\n",
       "    .dataframe tbody tr th {\n",
       "        vertical-align: top;\n",
       "    }\n",
       "\n",
       "    .dataframe thead th {\n",
       "        text-align: right;\n",
       "    }\n",
       "</style>\n",
       "<table border=\"1\" class=\"dataframe\">\n",
       "  <thead>\n",
       "    <tr style=\"text-align: right;\">\n",
       "      <th></th>\n",
       "      <th>st_id</th>\n",
       "      <th>sale_time</th>\n",
       "      <th>money</th>\n",
       "      <th>subject</th>\n",
       "    </tr>\n",
       "  </thead>\n",
       "  <tbody>\n",
       "    <tr>\n",
       "      <th>0</th>\n",
       "      <td>101432</td>\n",
       "      <td>2021-10-31</td>\n",
       "      <td>85000</td>\n",
       "      <td>Math</td>\n",
       "    </tr>\n",
       "    <tr>\n",
       "      <th>1</th>\n",
       "      <td>101432</td>\n",
       "      <td>2021-10-31</td>\n",
       "      <td>65000</td>\n",
       "      <td>Vizualization</td>\n",
       "    </tr>\n",
       "    <tr>\n",
       "      <th>2</th>\n",
       "      <td>104885</td>\n",
       "      <td>2021-10-30</td>\n",
       "      <td>65000</td>\n",
       "      <td>Vizualization</td>\n",
       "    </tr>\n",
       "    <tr>\n",
       "      <th>3</th>\n",
       "      <td>104885</td>\n",
       "      <td>2021-10-30</td>\n",
       "      <td>75000</td>\n",
       "      <td>Statistics</td>\n",
       "    </tr>\n",
       "    <tr>\n",
       "      <th>4</th>\n",
       "      <td>106464</td>\n",
       "      <td>2021-10-31</td>\n",
       "      <td>85000</td>\n",
       "      <td>Math</td>\n",
       "    </tr>\n",
       "  </tbody>\n",
       "</table>\n",
       "</div>"
      ],
      "text/plain": [
       "    st_id  sale_time  money        subject\n",
       "0  101432 2021-10-31  85000           Math\n",
       "1  101432 2021-10-31  65000  Vizualization\n",
       "2  104885 2021-10-30  65000  Vizualization\n",
       "3  104885 2021-10-30  75000     Statistics\n",
       "4  106464 2021-10-31  85000           Math"
      ]
     },
     "execution_count": 119,
     "metadata": {},
     "output_type": "execute_result"
    }
   ],
   "source": [
    "# создаем запрос, db автоматически заменится на значение из database\n",
    "sql = '''\n",
    "    SELECT st_id,\n",
    "           toDate(sale_time) as sale_time, money, subject\n",
    "    FROM {db}.final_project_check  \n",
    "\n",
    "'''\n",
    "#сохраняю третью табл в панд дф\n",
    "final_project_check = select(sql)\n",
    "final_project_check.head()"
   ]
  },
  {
   "cell_type": "code",
   "execution_count": 120,
   "metadata": {},
   "outputs": [
    {
     "data": {
      "text/plain": [
       "61"
      ]
     },
     "execution_count": 120,
     "metadata": {},
     "output_type": "execute_result"
    }
   ],
   "source": [
    "final_project_check.st_id.count()"
   ]
  },
  {
   "cell_type": "code",
   "execution_count": 121,
   "metadata": {},
   "outputs": [
    {
     "data": {
      "text/plain": [
       "47"
      ]
     },
     "execution_count": 121,
     "metadata": {},
     "output_type": "execute_result"
    }
   ],
   "source": [
    "final_project_check.st_id.nunique()"
   ]
  },
  {
   "cell_type": "markdown",
   "metadata": {},
   "source": [
    "1. ARPU = доход / на кол-во уникальных пользователей\n",
    "2. ARPAU = доход от акт юзеров / кол-во уник актив юзеров\n",
    "3. CR в покупку = кол-во купивших юзеров / общее кол-во уник юзеров\n",
    "4. СR активного пользователя в покупку  = кол-во активных кто сов покупку / общее кол-во активн юзеров\n",
    "5. CR пользователя из активности по математике (subject = ’math’) в покупку курса по математике = кол-во акт купивш по математике / кол-во активных по математике \n",
    "\n"
   ]
  },
  {
   "cell_type": "markdown",
   "metadata": {},
   "source": [
    "Изначально моя логика решения задачи была такой:  из дф peas я посчитала по каждому студенту общее кол-во решенных горошин и решенных горошин по математике. Получившийся дф я объединила с дф final_project_check - где хранится инфа с оплатами. И затем готовый дф я объед с studs, где хранится инфа с пользователями по аб тесту.\n",
    "Проверив итоговую сумму по чекам, у меня не сошлоись данные, получилось, что в итоговом дф сумма меньше, чем в final_project_check - где хранится инфа с оплатами.\n",
    "Пришла к выводу, что были такие участники эксперимента, которые не решали задачи, а сразу купили неограниченный доступ. Их тоже нужно учитывать при расчете метрик. "
   ]
  },
  {
   "cell_type": "code",
   "execution_count": 122,
   "metadata": {},
   "outputs": [],
   "source": [
    "sql = '''\n",
    "SELECT \n",
    "test_grp,\n",
    "round(SUM(money) / COUNT(DISTINCT st_id),2) as ARPU,\n",
    "ROUND(SUM(money) FILTER (WHERE total_correct > 10) / COUNT(DISTINCT st_id) FILTER (WHERE r.total_correct > 10),2) as ARPAU,\n",
    "ROUND(COUNT(DISTINCT st_id) FILTER (WHERE money > 0) / COUNT(DISTINCT st_id) * 100,2) as CR_total,\n",
    "ROUND(COUNT(DISTINCT st_id) FILTER (WHERE money > 0 AND total_correct > 10) / COUNT(DISTINCT st_id) FILTER (WHERE total_correct > 10) * 100,2) as CR_active_st,\n",
    "ROUND(COUNT(DISTINCT st_id) FILTER (WHERE money > 0 AND correct_math >= 2 AND subject = 'Math') / COUNT(DISTINCT st_id) FILTER (WHERE correct_math >=2) * 100,2) as CR_active_math_st\n",
    "\n",
    "FROM (SELECT st_id,\n",
    "       test_grp,\n",
    "       money,\n",
    "       subject\n",
    "FROM {db}.studs \n",
    "LEFT JOIN {db}.final_project_check\n",
    "USING (st_id)) as l \n",
    "\n",
    "LEFT JOIN (SELECT st_id,\n",
    "       SUM(correct) as total_correct,\n",
    "       SUM(correct) FILTER(WHERE subject = 'Math') as correct_math\n",
    "FROM {db}.peas\n",
    "GROUP BY st_id) as r\n",
    "\n",
    "USING (st_id)\n",
    "GROUP BY test_grp'''"
   ]
  },
  {
   "cell_type": "code",
   "execution_count": 123,
   "metadata": {},
   "outputs": [],
   "source": [
    "metrics = select(sql)"
   ]
  },
  {
   "cell_type": "code",
   "execution_count": 124,
   "metadata": {},
   "outputs": [
    {
     "data": {
      "text/html": [
       "<div>\n",
       "<style scoped>\n",
       "    .dataframe tbody tr th:only-of-type {\n",
       "        vertical-align: middle;\n",
       "    }\n",
       "\n",
       "    .dataframe tbody tr th {\n",
       "        vertical-align: top;\n",
       "    }\n",
       "\n",
       "    .dataframe thead th {\n",
       "        text-align: right;\n",
       "    }\n",
       "</style>\n",
       "<table border=\"1\" class=\"dataframe\">\n",
       "  <thead>\n",
       "    <tr style=\"text-align: right;\">\n",
       "      <th></th>\n",
       "      <th>test_grp</th>\n",
       "      <th>ARPU</th>\n",
       "      <th>ARPAU</th>\n",
       "      <th>CR_total</th>\n",
       "      <th>CR_active_st</th>\n",
       "      <th>CR_active_math_st</th>\n",
       "    </tr>\n",
       "  </thead>\n",
       "  <tbody>\n",
       "    <tr>\n",
       "      <th>0</th>\n",
       "      <td>control</td>\n",
       "      <td>4540.98</td>\n",
       "      <td>10393.70</td>\n",
       "      <td>4.92</td>\n",
       "      <td>11.02</td>\n",
       "      <td>6.12</td>\n",
       "    </tr>\n",
       "    <tr>\n",
       "      <th>1</th>\n",
       "      <td>pilot</td>\n",
       "      <td>11508.47</td>\n",
       "      <td>29739.58</td>\n",
       "      <td>10.85</td>\n",
       "      <td>26.04</td>\n",
       "      <td>9.52</td>\n",
       "    </tr>\n",
       "  </tbody>\n",
       "</table>\n",
       "</div>"
      ],
      "text/plain": [
       "  test_grp      ARPU     ARPAU  CR_total  CR_active_st  CR_active_math_st\n",
       "0  control   4540.98  10393.70      4.92         11.02               6.12\n",
       "1    pilot  11508.47  29739.58     10.85         26.04               9.52"
      ]
     },
     "execution_count": 124,
     "metadata": {},
     "output_type": "execute_result"
    }
   ],
   "source": [
    "metrics"
   ]
  },
  {
   "cell_type": "code",
   "execution_count": 125,
   "metadata": {},
   "outputs": [
    {
     "name": "stdout",
     "output_type": "stream",
     "text": [
      "ARPU в группе Pilot увеличился на  2.53\n",
      "ARPAU в группе Pilot увеличился на 2.86\n",
      "CR в покупку в группе Pilot увеличился на 2.21\n",
      "CR активного пользователя в покупку в группе Pilot увеличился на 2.36\n",
      "CR пользователя из активности по математике в покупку курса по математике 1.56\n",
      "\n"
     ]
    }
   ],
   "source": [
    "print(f'''ARPU в группе Pilot увеличился на  \\\n",
    "{round(metrics.query('test_grp == \"pilot\"').ARPU[1]/metrics.query('test_grp == \"control\"').ARPU[0],2)}\n",
    "ARPAU в группе Pilot увеличился на \\\n",
    "{round(metrics.query('test_grp == \"pilot\"').ARPAU[1]/metrics.query('test_grp == \"control\"').ARPAU[0],2)}\n",
    "CR в покупку в группе Pilot увеличился на \\\n",
    "{round(metrics.query('test_grp == \"pilot\"').CR_total[1]/metrics.query('test_grp == \"control\"').CR_total[0],2)}\n",
    "CR активного пользователя в покупку в группе Pilot увеличился на \\\n",
    "{round(metrics.query('test_grp == \"pilot\"').CR_active_st[1]/metrics.query('test_grp == \"control\"').CR_active_st[0],2)}\n",
    "CR пользователя из активности по математике в покупку курса по математике \\\n",
    "{round(metrics.query('test_grp == \"pilot\"').CR_active_math_st[1]/metrics.query('test_grp == \"control\"').CR_active_math_st[0],2)}\n",
    "''')"
   ]
  },
  {
   "cell_type": "markdown",
   "metadata": {},
   "source": [
    "Мы получили следующие метрики в группах. Показатели в тестовой группе выше чем в контрольной группе, нужно проверять если стат.значимые различия в группах и делать вывод стоит ли запускать новый экран оплаты на всех юзеров"
   ]
  },
  {
   "cell_type": "markdown",
   "metadata": {},
   "source": [
    "## Задание 3. Python\n",
    "\n",
    "**3.1 Задача**\n",
    "\n",
    "1. Реализуйте функцию, которая будет автоматически подгружать информацию из дополнительного файла groups_add.csv (заголовки могут отличаться) и на основании дополнительных параметров пересчитывать метрики.\n",
    "2. Реализуйте функцию, которая будет строить графики по получаемым метрикам."
   ]
  },
  {
   "cell_type": "code",
   "execution_count": 133,
   "metadata": {},
   "outputs": [],
   "source": [
    "def calculate_metrics(link_groups_add):\n",
    "    '''\n",
    "    Функция, которая будет автоматически подгружать информацию из дополнительного файла\n",
    "    groups_add.csv и на основании дополнительных параметров пересчитывать метрики.\n",
    "    '''\n",
    "    # Загрузка данных из дополнительного файла. Возьму код из первого задания. \n",
    "    \n",
    "    # используем api \n",
    "    base_url = 'https://cloud-api.yandex.net/v1/disk/public/resources/download?' \n",
    "    \n",
    "    #groups.csv\n",
    "    public_key_groups = 'https://disk.yandex.ru/d/UhyYx41rTt3clQ'\n",
    "    \n",
    "    #groups_add.csv\n",
    "    public_key_groups_add = link_groups_add\n",
    "    \n",
    "    #active_studs.csv\n",
    "    public_key_active_studs = 'https://disk.yandex.ru/d/Tbs44Bm6H_FwFQ'\n",
    "    \n",
    "    #checks.csv\n",
    "    public_key_checks = 'https://disk.yandex.ru/d/pH1q-VqcxXjsVA'\n",
    "\n",
    "    \n",
    "    \n",
    "    # получаем url \n",
    "    groups_url = base_url + urlencode(dict(public_key=public_key_groups))\n",
    "    groups_add_url = base_url + urlencode(dict(public_key=public_key_groups_add))\n",
    "    active_studs_url = base_url + urlencode(dict(public_key=public_key_active_studs))\n",
    "    checks_url = base_url + urlencode(dict(public_key=public_key_checks))\n",
    "    \n",
    "    \n",
    "    groups_response = requests.get(groups_url) \n",
    "    groups_add_response = requests.get(groups_add_url)\n",
    "    active_studs_response = requests.get(active_studs_url)\n",
    "    checks_response = requests.get(checks_url)\n",
    "    \n",
    "    download_groups_url = groups_response.json()['href']\n",
    "    download_groups_add_url = groups_add_response.json()['href']\n",
    "    download_active_studs_url = active_studs_response.json()['href']\n",
    "    download_checks_url = checks_response.json()['href']\n",
    "    \n",
    "    df_groups = pd.read_csv(download_groups_url, sep=';')\n",
    "    df_groups_add = pd.read_csv(download_groups_add_url, sep=',')\n",
    "    df_active_studs = pd.read_csv(download_active_studs_url, sep=';')\n",
    "    df_checks = pd.read_csv(download_checks_url, sep=';')\n",
    "    \n",
    "    \n",
    "    # Далее также возьму код из первого задания. Объед дф для получения итогового для подсчета метрик\n",
    "    #Объед файлы с инф по аб тесту\n",
    "    groups = pd.concat([df_groups,df_groups_add])\n",
    "    \n",
    "    #Объед файл, где хран данные по акт юзерам с данные, где хран оплаты пользов\n",
    "    action_users = df_active_studs.merge(df_checks, how = 'left',on = 'student_id')\n",
    "    \n",
    "    #Заменю все NaN значения на нули\n",
    "    action_users.fillna(0,inplace=True)\n",
    "    \n",
    "    if action_users.shape[0] == df_active_studs.shape[0]:\n",
    "        #если была покупка добавила 1, если нет 0 \n",
    "        action_users['purch'] = action_users['rev'].apply(lambda x: 1 if x > 0 else 0)\n",
    "        \n",
    "        #в дф с информацией о принадлежности пользователя к контрольной или экспериментальной группе изменю название колонки\n",
    "        groups.rename(columns = {'id':'student_id'},inplace=True)\n",
    "        df_students = groups.merge(action_users,on='student_id')\n",
    "        #Подготовила файл для дальнейшего анализа - df_students.\n",
    "        \n",
    "        #Подсчет метрик\n",
    "        \n",
    "        df_metrics = df_students.groupby('grp', as_index = False).agg({'student_id':'nunique',\n",
    "                                                     'purch':'sum',\n",
    "                                                     'rev':'sum'}).rename(columns={'student_id':'all_st',\n",
    "                                                                     'purch':'pay_st',\n",
    "                                                                     'rev':'total_rev'})\n",
    "        \n",
    "        df_metrics['CR'] = round((df_metrics['pay_st'] / df_metrics['all_st']) * 100,2)\n",
    "        df_metrics['ARPU'] = round((df_metrics['total_rev'] / df_metrics['all_st']),2)\n",
    "        df_metrics['ARPPU'] = round((df_metrics['total_rev'] / df_metrics['pay_st']),2)\n",
    "        \n",
    "        return df_metrics  \n",
    "        \n",
    "    else:\n",
    "        return 'При объединении произошла ошибка'"
   ]
  },
  {
   "cell_type": "markdown",
   "metadata": {},
   "source": [
    "**Функция, которая будет строить графики по получаемым метрикам**"
   ]
  },
  {
   "cell_type": "code",
   "execution_count": 136,
   "metadata": {},
   "outputs": [],
   "source": [
    "def plot_metrics(data):\n",
    "    '''\n",
    "    Функция, которая будет строить графики по получаемым метрикам\n",
    "    '''\n",
    "    #Строим графики\n",
    "    plt.figure(figsize=(15, 10))\n",
    "    \n",
    "    # CR \n",
    "    plt.subplot(2, 2, 1)\n",
    "    sns.barplot(data = data,x='CR',y='grp')\n",
    "    plt.title('Конверсия в покупку')\n",
    "    plt.ylabel('Группа')\n",
    "    plt.xlabel('CR(%)')\n",
    "    \n",
    "    #ARPU\n",
    "    plt.subplot(2, 2, 2)\n",
    "    sns.barplot(data = data,x='ARPU',y='grp')\n",
    "    plt.title('Средняя выручка на одного пользователя')\n",
    "    plt.ylabel('Группа')\n",
    "    plt.xlabel('ARPU')\n",
    "    \n",
    "    #APRRU\n",
    "    plt.subplot(2, 2, 3)\n",
    "    sns.barplot(data = data,x='ARPPU',y='grp')\n",
    "    plt.title('Средняя выручка на одного ПЛАТЯЩЕГО пользователя')\n",
    "    plt.ylabel('Группа')\n",
    "    plt.xlabel('APRRU')\n",
    "    \n",
    "    return plt.show()\n",
    "    \n",
    "    "
   ]
  },
  {
   "cell_type": "code",
   "execution_count": 137,
   "metadata": {},
   "outputs": [
    {
     "data": {
      "image/png": "[encoded data removed]",
      "text/plain": [
       "<Figure size 1080x720 with 3 Axes>"
      ]
     },
     "metadata": {
      "needs_background": "light"
     },
     "output_type": "display_data"
    }
   ],
   "source": [
    "public_key = 'https://disk.yandex.ru/d/5Kxrz02m3IBUwQ'\n",
    "\n",
    "dfs = calculate_metrics(public_key)\n",
    "plot_metrics(dfs)"
   ]
  },
  {
   "cell_type": "code",
   "execution_count": null,
   "metadata": {},
   "outputs": [],
   "source": []
  }
 ],
 "metadata": {
  "kernelspec": {
   "display_name": "Python 3 (ipykernel)",
   "language": "python",
   "name": "python3"
  },
  "language_info": {
   "codemirror_mode": {
    "name": "ipython",
    "version": 3
   },
   "file_extension": ".py",
   "mimetype": "text/x-python",
   "name": "python",
   "nbconvert_exporter": "python",
   "pygments_lexer": "ipython3",
   "version": "3.11.2"
  }
 },
 "nbformat": 4,
 "nbformat_minor": 4
}
